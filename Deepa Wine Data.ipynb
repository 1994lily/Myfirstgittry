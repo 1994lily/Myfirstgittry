{
 "cells": [
  {
   "cell_type": "markdown",
   "id": "8d16c437",
   "metadata": {
    "id": "8d16c437"
   },
   "source": [
    "## Load the library"
   ]
  },
  {
   "cell_type": "code",
   "execution_count": 1,
   "id": "b4ef2291",
   "metadata": {
    "id": "b4ef2291"
   },
   "outputs": [],
   "source": [
    "## Import all relevant libraries"
   ]
  },
  {
   "cell_type": "code",
   "execution_count": 2,
   "id": "5NjbI0Pvoar8",
   "metadata": {
    "id": "5NjbI0Pvoar8"
   },
   "outputs": [],
   "source": [
    "import numpy as np\n",
    "import pandas as pd\n",
    "import matplotlib.pyplot as plt\n",
    "import seaborn as sns\n",
    "from wordcloud import WordCloud\n",
    "from mpl_toolkits.mplot3d import Axes3D\n",
    "from sklearn.preprocessing import OneHotEncoder\n",
    "from sklearn.preprocessing import StandardScaler ,MinMaxScaler, RobustScaler # How to import Min Absolute Scaler "
   ]
  },
  {
   "cell_type": "markdown",
   "id": "73c4aaba",
   "metadata": {
    "id": "73c4aaba"
   },
   "source": [
    "## Read the data"
   ]
  },
  {
   "cell_type": "code",
   "execution_count": 3,
   "id": "a511396f",
   "metadata": {
    "id": "a511396f"
   },
   "outputs": [],
   "source": [
    "## Load the data from your file or data source."
   ]
  },
  {
   "cell_type": "code",
   "execution_count": 4,
   "id": "2bded563",
   "metadata": {},
   "outputs": [
    {
     "ename": "SyntaxError",
     "evalue": "invalid syntax (1779516620.py, line 3)",
     "output_type": "error",
     "traceback": [
      "\u001b[1;36m  Cell \u001b[1;32mIn[4], line 3\u001b[1;36m\u001b[0m\n\u001b[1;33m    The dataset was downloaded from the UCI Machine Learning Repository.\u001b[0m\n\u001b[1;37m        ^\u001b[0m\n\u001b[1;31mSyntaxError\u001b[0m\u001b[1;31m:\u001b[0m invalid syntax\n"
     ]
    }
   ],
   "source": [
    "## Data Set Information:\n",
    "\n",
    "The dataset was downloaded from the UCI Machine Learning Repository.\n",
    "\n",
    "The two datasets are related to red and white variants of the Portuguese \"Vinho Verde\" wine. The reference [Cortez et al., 2009].\n",
    "Due to privacy and logistic issues, only physicochemical (inputs) and sensory (the output) variables are available (e.g. there is no data about grape types, wine brand, wine selling price, etc.).\n",
    "\n",
    "These datasets can be viewed as classification or regression tasks. \n",
    "The classes are ordered and not balanced (e.g. there are munch more normal wines than excellent or poor ones).\n",
    "Outlier detection algorithms could be used to detect the few excellent or poor wines. \n",
    "Also, we are not sure if all input variables are relevant. So it could be interesting to test feature selection methods.\n",
    "\n",
    "Two datasets were combined and few values were randomly removed.\n",
    "\n",
    "Attribute Information:\n",
    "\n",
    "For more information, read [Cortez et al., 2009].\n",
    "Input variables (based on physicochemical tests):\n",
    "1 - fixed acidity\n",
    "2 - volatile acidity\n",
    "3 - citric acid\n",
    "4 - residual sugar\n",
    "5 - chlorides\n",
    "6 - free sulfur dioxide\n",
    "7 - total sulfur dioxide\n",
    "8 - density\n",
    "9 - pH\n",
    "10 - sulphates\n",
    "11 - alcohol\n",
    "Output variable (based on sensory data):\n",
    "12 - quality (score between 0 and 10)"
   ]
  },
  {
   "cell_type": "code",
   "execution_count": null,
   "id": "80618dbd",
   "metadata": {
    "id": "80618dbd"
   },
   "outputs": [],
   "source": [
    "df = pd.read_csv('I:/Data Analytics Class/PHYTON/Project/EDA Projects/1. Wine Quality data/winequalityN.csv',na_values=['N/A', 'NIL'])\n",
    "\n",
    "## Above code na_values=['N/A', 'NIL'] mentions the values which are null or other Nill , None , Nan . will be included in  this data frame so we can know how many nulls values in the Data Frame "
   ]
  },
  {
   "cell_type": "code",
   "execution_count": null,
   "id": "d261a5a8",
   "metadata": {
    "id": "d261a5a8"
   },
   "outputs": [],
   "source": [
    "## Show first 5 rows"
   ]
  },
  {
   "cell_type": "code",
   "execution_count": null,
   "id": "53b76894",
   "metadata": {
    "id": "53b76894"
   },
   "outputs": [],
   "source": [
    "df.head()\n",
    "## this code is written for to check the first five row of the data frame"
   ]
  },
  {
   "cell_type": "code",
   "execution_count": null,
   "id": "73e59585",
   "metadata": {
    "id": "73e59585"
   },
   "outputs": [],
   "source": [
    "## Show last 5 rows\n",
    "## this code is written for to check the last five row of the data frame"
   ]
  },
  {
   "cell_type": "code",
   "execution_count": null,
   "id": "c019678e",
   "metadata": {
    "id": "c019678e"
   },
   "outputs": [],
   "source": [
    "df.tail()\n",
    "## this code is written for to check the last five row of the data frame"
   ]
  },
  {
   "cell_type": "code",
   "execution_count": null,
   "id": "bca593d1",
   "metadata": {},
   "outputs": [],
   "source": [
    "\n",
    "\n",
    "df.isnull().sum()\n",
    "## these are total null values are in this data frame"
   ]
  },
  {
   "cell_type": "code",
   "execution_count": null,
   "id": "e1b14ef9",
   "metadata": {},
   "outputs": [],
   "source": [
    "df.isnull()"
   ]
  },
  {
   "cell_type": "code",
   "execution_count": null,
   "id": "ff7cacf2",
   "metadata": {},
   "outputs": [],
   "source": [
    "df.isnull().sum()/len(df) * 100\n",
    "## This code to find the percentage of the value of data frame, \n",
    "## if percentage of null values are more then 30 % we will drop the colunme otherwise we will fill these column with median "
   ]
  },
  {
   "cell_type": "code",
   "execution_count": null,
   "id": "f3f2d8bd",
   "metadata": {},
   "outputs": [],
   "source": []
  },
  {
   "cell_type": "code",
   "execution_count": null,
   "id": "baac2d39",
   "metadata": {},
   "outputs": [],
   "source": []
  },
  {
   "cell_type": "code",
   "execution_count": null,
   "id": "e30602a6",
   "metadata": {},
   "outputs": [],
   "source": []
  },
  {
   "cell_type": "code",
   "execution_count": null,
   "id": "a9bc49ec",
   "metadata": {},
   "outputs": [],
   "source": []
  },
  {
   "cell_type": "code",
   "execution_count": null,
   "id": "a3aea1d6",
   "metadata": {},
   "outputs": [],
   "source": []
  },
  {
   "cell_type": "code",
   "execution_count": null,
   "id": "52b92380",
   "metadata": {},
   "outputs": [],
   "source": []
  },
  {
   "cell_type": "code",
   "execution_count": null,
   "id": "a9867afe",
   "metadata": {
    "id": "a9867afe"
   },
   "outputs": [],
   "source": [
    "## Show the info for data"
   ]
  },
  {
   "cell_type": "code",
   "execution_count": null,
   "id": "21285a2e",
   "metadata": {
    "id": "21285a2e"
   },
   "outputs": [],
   "source": [
    "df.info()\n",
    "## these code show the information about the colume, for which type of data in the row of the data frame\n"
   ]
  },
  {
   "cell_type": "code",
   "execution_count": null,
   "id": "06e24e22",
   "metadata": {
    "id": "06e24e22"
   },
   "outputs": [],
   "source": [
    "\n",
    "## Show the columns"
   ]
  },
  {
   "cell_type": "code",
   "execution_count": null,
   "id": "1bd15451",
   "metadata": {
    "id": "1bd15451"
   },
   "outputs": [],
   "source": [
    "df.columns\n",
    "## this code show the index details about data frame"
   ]
  },
  {
   "cell_type": "code",
   "execution_count": null,
   "id": "78c07f64",
   "metadata": {
    "id": "78c07f64"
   },
   "outputs": [],
   "source": [
    "## Show the description summary for numerical and categorical values."
   ]
  },
  {
   "cell_type": "code",
   "execution_count": null,
   "id": "e43f5fcb",
   "metadata": {
    "id": "e43f5fcb"
   },
   "outputs": [],
   "source": [
    "df.describe()"
   ]
  },
  {
   "cell_type": "code",
   "execution_count": null,
   "id": "adabf995",
   "metadata": {},
   "outputs": [],
   "source": [
    "num_columns=['fixed acidity', 'volatile acidity', 'citric acid',\n",
    "       'residual sugar', 'chlorides', 'free sulfur dioxide',\n",
    "       'total sulfur dioxide', 'density', 'pH', 'sulphates', 'alcohol',\n",
    "       'quality']\n",
    "categorical_columns=['type']"
   ]
  },
  {
   "cell_type": "code",
   "execution_count": null,
   "id": "478fd878",
   "metadata": {},
   "outputs": [],
   "source": [
    "df.describe(include=\"O\").columns"
   ]
  },
  {
   "cell_type": "markdown",
   "id": "2ed8ea4a",
   "metadata": {
    "id": "2ed8ea4a"
   },
   "source": [
    "# Exploratory Data Analysis"
   ]
  },
  {
   "cell_type": "code",
   "execution_count": null,
   "id": "7e22edae",
   "metadata": {
    "id": "7e22edae"
   },
   "outputs": [],
   "source": []
  },
  {
   "cell_type": "code",
   "execution_count": null,
   "id": "0bfbbeb5",
   "metadata": {
    "id": "0bfbbeb5"
   },
   "outputs": [],
   "source": []
  },
  {
   "cell_type": "markdown",
   "id": "5913d4c3",
   "metadata": {
    "id": "5913d4c3"
   },
   "source": [
    "## Do Numerical Analysis of Columns"
   ]
  },
  {
   "cell_type": "code",
   "execution_count": null,
   "id": "2ed2adb4",
   "metadata": {
    "id": "2ed2adb4"
   },
   "outputs": [],
   "source": [
    "#  Numerical column analysis \n",
    "\n",
    "#  Maximum and mimimum value mean, meadian or std deviation or variance\n",
    "\n",
    "#  You can learn about their distribution.\n",
    "# - Histogram.\n",
    "#  While a histogram is made up of bars that touch each other,it shows counts of values in each range.\n",
    "\n",
    "# - Distribution plot. \n",
    "#  While a density plot shows the proportion of values in each range, a density plot is a smooth curve \n",
    "# that shows the distribution of the data in a more continuous way\n",
    "\n",
    "# Asymmetry \n",
    "# Skewness is a statistical measure of the asymmetry of a probability distribution. \n",
    "# It characterizes the extent to which the distribution of a set of values deviates from a normal distribution.\n",
    "# If the skewness is between -0.5 & 0.5, the data are nearly symmetrical.\n",
    "# If the skewness is between -1 & -0.5 (negative skewed) or between 0.5 & 1(positive skewed), the data are slightly skewed.\n",
    "# If the skewness is lower than -1 (negative skewed) or greater than 1 (positive skewed), the data are extremely skewed.\n",
    "\n",
    "# Quantile Analysis\n",
    "# A quantile defines a particular part of a data set, \n",
    "# i.e. a quantile determines how many values in a distribution are above or below a certain limit.\n",
    "\n",
    "# Analysis of extreme value\n",
    "# - Box Plot\n",
    "# - Violin plot"
   ]
  },
  {
   "cell_type": "code",
   "execution_count": null,
   "id": "dcd8bc32",
   "metadata": {},
   "outputs": [],
   "source": [
    "df.num_columns['fixed acidity'].mean()"
   ]
  },
  {
   "cell_type": "code",
   "execution_count": null,
   "id": "ce11a65a",
   "metadata": {
    "id": "ce11a65a"
   },
   "outputs": [],
   "source": [
    "for col in num_columns :\n",
    "    print (\"_\"*20,col,\"_\"*20)\n",
    "    print(\"mean of :\",df[col].mean())\n",
    "    print(\"min of: \",df[col].min())\n",
    "    print(\"max of: \",df[col].max())\n",
    "    print(\"std of \",col,\": \",df[col].std())\n",
    "    print(\"variance  of \",col,\": \",df[col].var())\n",
    "    print(\"skewness of \",col,\": \",df[col].skew())\n",
    "    print (\"Quantile of \",col,\": \",df[col].quantile(0.10),df[col].quantile(0.25),df[col].quantile(0.50),df[col].quantile(0.75),df[col].quantile(0.90))\n",
    "    print (\"Null Percentage of the \",col,\": \",df[col].isnull().sum()/len(col) * 100)\n",
    "\n",
    "    plt.figure(figsize=(8,6))\n",
    "    sns.histplot(df[col],color=\"red\")\n",
    "    plt.title(\" Histogram Plot\",x=0.1 ,y=1.03)\n",
    "    plt.xlabel(col,x=.01,y=1.02)\n",
    "    plt.ylabel(\"Frequency\",y=.4) \n",
    "    plt.show()\n",
    "\n",
    "\n",
    "    plt.figure(figsize=(8,6))\n",
    "    sns.histplot(df[col],kde=True,element=\"step\")\n",
    "    plt.title(\" Histogram Plot\",x=0.1 ,y=1.03)\n",
    "    plt.xlabel(col,x=.01,y=1.02)\n",
    "    plt.ylabel(\"Frequency\",y=.4) \n",
    "    plt.show()\n",
    "\n",
    "    plt.figure(figsize=(8,4))\n",
    "    # Box plot\n",
    "    sns.boxplot(df[col],orient=\"V\",color= \"olive\") \n",
    "    plt.title(\"Box plot\",y=1.02, color= \"red\" )\n",
    "    plt.xlabel(col, x=0.1,color= \"purple\" )\n",
    "    # plt.ylabel(\"\")\n",
    "    plt.show()\n",
    "\n",
    "\n",
    "    plt.figure(figsize=(8,8))\n",
    "    # Violin Plot\n",
    "    sns.violinplot(df[col],orient=\"h\",color=\"orangered\")\n",
    "    sns.swarmplot(df[col],size=1,orient=\"h\",color=\"lime\")\n",
    "\n",
    "    plt.title(\"Violin plot\",x=0.2,y=1.02,color=\"Red\" )\n",
    "    plt.xlabel(col,size=10,x=0.1,color=\"Red\")\n",
    "    # plt.ylabel(\"\")\n",
    "    plt.show()\n"
   ]
  },
  {
   "cell_type": "code",
   "execution_count": null,
   "id": "a1806b8d",
   "metadata": {},
   "outputs": [],
   "source": []
  },
  {
   "cell_type": "code",
   "execution_count": null,
   "id": "06ef5452",
   "metadata": {
    "id": "06ef5452"
   },
   "outputs": [],
   "source": [
    "## Conclude and write down your observation."
   ]
  },
  {
   "cell_type": "code",
   "execution_count": null,
   "id": "d905003a",
   "metadata": {
    "id": "d905003a"
   },
   "outputs": [],
   "source": []
  },
  {
   "cell_type": "markdown",
   "id": "4a763138",
   "metadata": {
    "id": "4a763138"
   },
   "source": [
    "## Do Categortical  Analysis of Columns"
   ]
  },
  {
   "cell_type": "code",
   "execution_count": null,
   "id": "e16b4f94",
   "metadata": {
    "id": "e16b4f94"
   },
   "outputs": [],
   "source": [
    "#  Categorical column analysis \n",
    "#  You can learn about their count values and their percentage.\n",
    "# value_counts allows you to find the number of each category in the that column.\n",
    "#  Count plot.\n",
    "\n",
    "# find no. of unique values and what are those unique values.\n",
    "\n",
    "#  Word cloud to create most frequently occuring words."
   ]
  },
  {
   "cell_type": "code",
   "execution_count": null,
   "id": "2a455bec",
   "metadata": {
    "id": "2a455bec"
   },
   "outputs": [],
   "source": []
  },
  {
   "cell_type": "code",
   "execution_count": null,
   "id": "931eb027",
   "metadata": {
    "id": "931eb027"
   },
   "outputs": [],
   "source": [
    "## Conclude and write down your observation."
   ]
  },
  {
   "cell_type": "code",
   "execution_count": null,
   "id": "18b92741",
   "metadata": {
    "id": "18b92741"
   },
   "outputs": [],
   "source": []
  },
  {
   "cell_type": "code",
   "execution_count": null,
   "id": "00c8557c",
   "metadata": {
    "id": "00c8557c"
   },
   "outputs": [],
   "source": []
  },
  {
   "cell_type": "markdown",
   "id": "ff7b0d89",
   "metadata": {
    "id": "ff7b0d89"
   },
   "source": [
    "## Combine Numerical and categorical columns for analysis"
   ]
  },
  {
   "cell_type": "code",
   "execution_count": null,
   "id": "fac30b3e",
   "metadata": {
    "id": "fac30b3e"
   },
   "outputs": [],
   "source": []
  },
  {
   "cell_type": "code",
   "execution_count": null,
   "id": "11763ca8",
   "metadata": {
    "id": "11763ca8"
   },
   "outputs": [],
   "source": []
  },
  {
   "cell_type": "markdown",
   "id": "96174544",
   "metadata": {
    "id": "96174544"
   },
   "source": [
    "## Add your own Questions"
   ]
  },
  {
   "cell_type": "code",
   "execution_count": null,
   "id": "44b0bc18",
   "metadata": {
    "id": "44b0bc18"
   },
   "outputs": [],
   "source": []
  },
  {
   "cell_type": "code",
   "execution_count": null,
   "id": "4048253a",
   "metadata": {
    "id": "4048253a"
   },
   "outputs": [],
   "source": []
  },
  {
   "cell_type": "markdown",
   "id": "4986e729",
   "metadata": {
    "id": "4986e729"
   },
   "source": [
    "# Data Cleaning"
   ]
  },
  {
   "cell_type": "markdown",
   "id": "9b661de4",
   "metadata": {
    "id": "9b661de4"
   },
   "source": [
    "## 1. Handling Duplicate data"
   ]
  },
  {
   "cell_type": "code",
   "execution_count": null,
   "id": "91fd3c27",
   "metadata": {
    "id": "91fd3c27"
   },
   "outputs": [],
   "source": [
    "## Check shape of original data"
   ]
  },
  {
   "cell_type": "code",
   "execution_count": null,
   "id": "5a60e696",
   "metadata": {
    "id": "5a60e696"
   },
   "outputs": [],
   "source": [
    "df.shape"
   ]
  },
  {
   "cell_type": "code",
   "execution_count": null,
   "id": "2fefe200",
   "metadata": {
    "id": "2fefe200"
   },
   "outputs": [],
   "source": [
    "## Check shape after applying drop duplicates."
   ]
  },
  {
   "cell_type": "code",
   "execution_count": null,
   "id": "77c2f822",
   "metadata": {
    "id": "77c2f822"
   },
   "outputs": [],
   "source": [
    "df.drop_duplicates?"
   ]
  },
  {
   "cell_type": "code",
   "execution_count": null,
   "id": "14eeb06a",
   "metadata": {},
   "outputs": [],
   "source": [
    "df = pd.DataFrame({\n",
    "    'brand': ['Yum Yum', 'Yum Yum', 'Indomie', 'Indomie', 'Indomie'],\n",
    "    'style': ['cup', 'cup', 'cup', 'pack', 'pack'],\n",
    "    'rating': [4, 4, 3.5, 15, 5]\n",
    "})\n",
    "df"
   ]
  },
  {
   "cell_type": "code",
   "execution_count": null,
   "id": "41605ed8",
   "metadata": {
    "id": "41605ed8"
   },
   "outputs": [],
   "source": [
    "## Drop duplicate values and reset your index columns."
   ]
  },
  {
   "cell_type": "code",
   "execution_count": null,
   "id": "393bfc6b",
   "metadata": {
    "id": "393bfc6b"
   },
   "outputs": [],
   "source": [
    "df.drop_duplicates(keep='first')"
   ]
  },
  {
   "cell_type": "code",
   "execution_count": null,
   "id": "e284ddad",
   "metadata": {
    "id": "e284ddad"
   },
   "outputs": [],
   "source": [
    "## Conslusion or what you have done for achieving this."
   ]
  },
  {
   "cell_type": "code",
   "execution_count": null,
   "id": "b914613c",
   "metadata": {
    "id": "b914613c"
   },
   "outputs": [],
   "source": []
  },
  {
   "cell_type": "markdown",
   "id": "1559de2e",
   "metadata": {
    "id": "1559de2e"
   },
   "source": [
    "## 2.  Handling Missing Values"
   ]
  },
  {
   "cell_type": "code",
   "execution_count": null,
   "id": "9fce3bbb",
   "metadata": {
    "id": "9fce3bbb"
   },
   "outputs": [],
   "source": [
    "## Apply isnull() function and find the sum of missing values in all columns."
   ]
  },
  {
   "cell_type": "code",
   "execution_count": null,
   "id": "83fa71f8",
   "metadata": {
    "id": "83fa71f8"
   },
   "outputs": [],
   "source": []
  },
  {
   "cell_type": "code",
   "execution_count": null,
   "id": "6d01bfaf",
   "metadata": {
    "id": "6d01bfaf"
   },
   "outputs": [],
   "source": [
    "## Find missing value in % form."
   ]
  },
  {
   "cell_type": "code",
   "execution_count": null,
   "id": "7ea2505c",
   "metadata": {
    "id": "7ea2505c"
   },
   "outputs": [],
   "source": []
  },
  {
   "cell_type": "code",
   "execution_count": null,
   "id": "184c4be3",
   "metadata": {
    "id": "184c4be3"
   },
   "outputs": [],
   "source": [
    "## Conclude your finding on missing values."
   ]
  },
  {
   "cell_type": "code",
   "execution_count": null,
   "id": "cc44d9f0",
   "metadata": {
    "id": "cc44d9f0"
   },
   "outputs": [],
   "source": []
  },
  {
   "cell_type": "code",
   "execution_count": null,
   "id": "f645ea2d",
   "metadata": {
    "id": "f645ea2d"
   },
   "outputs": [],
   "source": [
    "## Drop the columns based on above analysis."
   ]
  },
  {
   "cell_type": "code",
   "execution_count": null,
   "id": "eb13c4f9",
   "metadata": {
    "id": "eb13c4f9"
   },
   "outputs": [],
   "source": []
  },
  {
   "cell_type": "code",
   "execution_count": null,
   "id": "bb0d4071",
   "metadata": {
    "id": "bb0d4071"
   },
   "outputs": [],
   "source": [
    "## Conslusion or what you have done for achieving this."
   ]
  },
  {
   "cell_type": "code",
   "execution_count": null,
   "id": "16c8d0cf",
   "metadata": {
    "id": "16c8d0cf"
   },
   "outputs": [],
   "source": []
  },
  {
   "cell_type": "markdown",
   "id": "bd3d15d6",
   "metadata": {
    "id": "bd3d15d6"
   },
   "source": [
    "## 3. Handling Outliers "
   ]
  },
  {
   "cell_type": "code",
   "execution_count": null,
   "id": "1d7b253e",
   "metadata": {
    "id": "1d7b253e"
   },
   "outputs": [],
   "source": [
    "## Apply below techniques on numerical columns.\n",
    "\n",
    "# Do box plot and violin plot to identify outliers.\n",
    "\n",
    "# Q1 --> 25%ile of data \n",
    "#     first line of the box plot\n",
    "# Q2 --> median or 50%ile of data\n",
    "#     second line or middle line of the box.\n",
    "# Q3 --> 75%ile of data   \n",
    "#     third line or the last of the box.\n",
    "\n",
    "# IQR --> Interquartile range.\n",
    "#      distance/value between Q1 or 25%ile and Q3 or 75%ile\n",
    "#     IQR = Q3-Q1\n",
    "    \n",
    "# minimum whisker --> Q1 - 1.5*IQR\n",
    "# maximum whisker --> Q3 + 1.5*IQR\n",
    "\n",
    "# Any value below mimimum whisker and above maximum whisker are termed as outlier."
   ]
  },
  {
   "cell_type": "code",
   "execution_count": null,
   "id": "6dd5fceb",
   "metadata": {
    "id": "6dd5fceb"
   },
   "outputs": [],
   "source": []
  },
  {
   "cell_type": "code",
   "execution_count": null,
   "id": "48b35e7d",
   "metadata": {
    "id": "48b35e7d"
   },
   "outputs": [],
   "source": []
  },
  {
   "cell_type": "code",
   "execution_count": null,
   "id": "761f4454",
   "metadata": {
    "id": "761f4454"
   },
   "outputs": [],
   "source": [
    "## Based on your anlysis either drop extreme values or substitute them with more acceptable value."
   ]
  },
  {
   "cell_type": "code",
   "execution_count": null,
   "id": "a16fd58b",
   "metadata": {
    "id": "a16fd58b"
   },
   "outputs": [],
   "source": []
  },
  {
   "cell_type": "code",
   "execution_count": null,
   "id": "57244e92",
   "metadata": {
    "id": "57244e92"
   },
   "outputs": [],
   "source": [
    "## Conslusion or what you have done for achieving this."
   ]
  },
  {
   "cell_type": "code",
   "execution_count": null,
   "id": "8891b12e",
   "metadata": {
    "id": "8891b12e"
   },
   "outputs": [],
   "source": []
  },
  {
   "cell_type": "markdown",
   "id": "19e12467",
   "metadata": {
    "id": "19e12467"
   },
   "source": [
    "## 4. Handling Categoirical Values"
   ]
  },
  {
   "cell_type": "code",
   "execution_count": null,
   "id": "d900d73e",
   "metadata": {
    "id": "d900d73e"
   },
   "outputs": [],
   "source": [
    "## Idea is be to convert these string like values to number.\n",
    "## Collect all Categorical column"
   ]
  },
  {
   "cell_type": "code",
   "execution_count": null,
   "id": "8515d1cd",
   "metadata": {
    "id": "8515d1cd"
   },
   "outputs": [],
   "source": []
  },
  {
   "cell_type": "code",
   "execution_count": null,
   "id": "59ff4198",
   "metadata": {
    "id": "59ff4198"
   },
   "outputs": [],
   "source": [
    "# Ordinal --> Something that shows order.\n",
    "# e.g. \n",
    "# level of education.\n",
    "# 10th,12th,Diploma,Graduation, Masters,Phd\n",
    "# 1,2,3,4,5,6\n",
    "\n",
    "# shopping for clothes t-shirts,\n",
    "# XS,S,M,L,XL,XXL\n",
    "# 1,2,3,4,5,6\n",
    "\n",
    "\n",
    "# -- category encoding\n",
    "# -- mapping of values to number in some order."
   ]
  },
  {
   "cell_type": "code",
   "execution_count": null,
   "id": "cf6ac767",
   "metadata": {
    "id": "cf6ac767"
   },
   "outputs": [],
   "source": []
  },
  {
   "cell_type": "code",
   "execution_count": null,
   "id": "1d7af4e0",
   "metadata": {
    "id": "1d7af4e0"
   },
   "outputs": [],
   "source": [
    "# Nominal --> Something which doesn't show order.\n",
    "# e.g.\n",
    "# cities in India\n",
    "# delhi,mumbai,kolkatta,pune,chennai,hyderabad,bangalore\n",
    "\n",
    "# subject of education\n",
    "# physics,mathematics,chemistry,commerce,biology,english,hindi,sanskrit\n",
    "\n",
    "# gender of human\n",
    "# male, female\n",
    "\n",
    "\n",
    "# sex        sex_male , sex_female\n",
    "# male          1     ,   0\n",
    "# female        0     ,   1 \n",
    "# male          1     ,   0\n",
    "# male          1     ,   0\n",
    "\n",
    "\n",
    "# -- One-hot encoding.\n",
    "# by which we convert the individual values in the column to a new column\n",
    "# by making available value for row as 1 and other as 0.\n",
    "\n",
    "# different ways of applying one-hot encoding:\n",
    "#     1. to apply using pandas pd.get_dummies\n",
    "#     2. to is sklearn (scientic package for mode building).\n",
    "    \n",
    "# there is a limitation of one-hot encoding.\n",
    "# Suppose there is a data which 100000 row and has a column city which 1000 unique city.\n",
    "\n",
    "# no. of unique values in a categorical coilumn is reffered to as cardinality.\n",
    "# if a caloumn has 5-7 uniques values they are reffred to as medium to low cardinality.\n",
    "# if this no. increase to more than 10 then it becomes high cardinarility.\n",
    "\n",
    "# Cardinality of nominal values values are high.\n",
    "# there is a limitation of one-hot encoding.\n",
    "# Suppose there is a data which 100000 row and has a column city which 1000 unique city.\n",
    "\n",
    "# -- frequency encoding\n",
    "# city     city\n",
    "# pune     0.14 \n",
    "# ...\n",
    "# ...\n",
    "# delhi    0.26\n",
    "# etc.\n",
    "\n",
    "# value_counts() \n",
    "# use frequency of how many times pune has occured 1200 or in % form.\n",
    "\n",
    "# -- target-mean encoding\n",
    "# city       survived\n",
    "# pune          1 \n",
    "# ...           0   \n",
    "# delhi\n",
    "# bangalore\n",
    "# ...\n",
    "# etc.\n",
    "\n",
    "# link for different technique.\n",
    "# http://contrib.scikit-learn.org/category_encoders/"
   ]
  },
  {
   "cell_type": "code",
   "execution_count": null,
   "id": "b45077ca",
   "metadata": {
    "id": "b45077ca"
   },
   "outputs": [],
   "source": []
  },
  {
   "cell_type": "code",
   "execution_count": null,
   "id": "c7a68270",
   "metadata": {
    "id": "c7a68270"
   },
   "outputs": [],
   "source": []
  },
  {
   "cell_type": "code",
   "execution_count": null,
   "id": "b3dccd6b",
   "metadata": {
    "id": "b3dccd6b"
   },
   "outputs": [],
   "source": [
    "## Conslusion or what you have done for achieving this."
   ]
  },
  {
   "cell_type": "code",
   "execution_count": null,
   "id": "c85d340f",
   "metadata": {
    "id": "c85d340f"
   },
   "outputs": [],
   "source": []
  },
  {
   "cell_type": "code",
   "execution_count": null,
   "id": "640e6bc6",
   "metadata": {
    "id": "640e6bc6"
   },
   "outputs": [],
   "source": []
  },
  {
   "cell_type": "markdown",
   "id": "f0f74d32",
   "metadata": {
    "id": "f0f74d32"
   },
   "source": [
    "## 5 . Handling Numerical values"
   ]
  },
  {
   "cell_type": "code",
   "execution_count": null,
   "id": "64bf80fd",
   "metadata": {
    "id": "64bf80fd"
   },
   "outputs": [],
   "source": [
    "## Whether the data is symmetrical or not.\n",
    "## Plot histogram and distribution plot."
   ]
  },
  {
   "cell_type": "code",
   "execution_count": null,
   "id": "74715967",
   "metadata": {
    "id": "74715967"
   },
   "outputs": [],
   "source": [
    "df.head()"
   ]
  },
  {
   "cell_type": "code",
   "execution_count": null,
   "id": "73e5f55d",
   "metadata": {
    "id": "73e5f55d"
   },
   "outputs": [],
   "source": [
    "## If your data is not skwed and symmetrical apply standard scaler."
   ]
  },
  {
   "cell_type": "code",
   "execution_count": null,
   "id": "c3404d64",
   "metadata": {
    "id": "c3404d64"
   },
   "outputs": [],
   "source": []
  },
  {
   "cell_type": "code",
   "execution_count": null,
   "id": "9bdf16a1",
   "metadata": {
    "id": "9bdf16a1"
   },
   "outputs": [],
   "source": [
    "## Confirm the distribution patter by Plot histogram and distribution plot again."
   ]
  },
  {
   "cell_type": "code",
   "execution_count": null,
   "id": "c208c2ca",
   "metadata": {
    "id": "c208c2ca"
   },
   "outputs": [],
   "source": []
  },
  {
   "cell_type": "code",
   "execution_count": null,
   "id": "c4d208ce",
   "metadata": {
    "id": "c4d208ce"
   },
   "outputs": [],
   "source": [
    "## If your data is skwed and non-symmetrical apply min-max scaler."
   ]
  },
  {
   "cell_type": "code",
   "execution_count": null,
   "id": "e8825761",
   "metadata": {
    "id": "e8825761"
   },
   "outputs": [],
   "source": []
  },
  {
   "cell_type": "code",
   "execution_count": null,
   "id": "acdd50aa",
   "metadata": {
    "id": "acdd50aa"
   },
   "outputs": [],
   "source": [
    "## Confirm the distribution patter by Plot histogram and distribution plot again."
   ]
  },
  {
   "cell_type": "code",
   "execution_count": null,
   "id": "408c25f3",
   "metadata": {
    "id": "408c25f3"
   },
   "outputs": [],
   "source": []
  },
  {
   "cell_type": "code",
   "execution_count": null,
   "id": "89aeb0e6",
   "metadata": {
    "id": "89aeb0e6"
   },
   "outputs": [],
   "source": [
    "## Conslusion or what you have done for achieving this."
   ]
  },
  {
   "cell_type": "code",
   "execution_count": null,
   "id": "c905ab89",
   "metadata": {
    "id": "c905ab89"
   },
   "outputs": [],
   "source": []
  },
  {
   "cell_type": "code",
   "execution_count": null,
   "id": "6d4e667d",
   "metadata": {
    "id": "6d4e667d"
   },
   "outputs": [],
   "source": []
  },
  {
   "cell_type": "markdown",
   "id": "1cfc3e2e",
   "metadata": {
    "id": "1cfc3e2e"
   },
   "source": [
    "# Model Building"
   ]
  },
  {
   "cell_type": "code",
   "execution_count": null,
   "id": "dd0357fe",
   "metadata": {
    "id": "dd0357fe"
   },
   "outputs": [],
   "source": []
  },
  {
   "cell_type": "code",
   "execution_count": null,
   "id": "61c43917",
   "metadata": {
    "id": "61c43917"
   },
   "outputs": [],
   "source": []
  },
  {
   "cell_type": "code",
   "execution_count": null,
   "id": "fa05fa1c",
   "metadata": {},
   "outputs": [],
   "source": []
  },
  {
   "cell_type": "code",
   "execution_count": null,
   "id": "7c20d5a4",
   "metadata": {},
   "outputs": [],
   "source": []
  },
  {
   "cell_type": "code",
   "execution_count": null,
   "id": "341cec61",
   "metadata": {},
   "outputs": [],
   "source": []
  },
  {
   "cell_type": "code",
   "execution_count": null,
   "id": "b7f0ac01",
   "metadata": {},
   "outputs": [],
   "source": []
  },
  {
   "cell_type": "code",
   "execution_count": null,
   "id": "8b0416e0",
   "metadata": {},
   "outputs": [],
   "source": []
  },
  {
   "cell_type": "code",
   "execution_count": null,
   "id": "1ae1b04c",
   "metadata": {},
   "outputs": [],
   "source": []
  },
  {
   "cell_type": "code",
   "execution_count": null,
   "id": "6795a2e9",
   "metadata": {},
   "outputs": [],
   "source": []
  },
  {
   "cell_type": "code",
   "execution_count": null,
   "id": "58d7ed15",
   "metadata": {},
   "outputs": [],
   "source": []
  },
  {
   "cell_type": "code",
   "execution_count": null,
   "id": "09055d34",
   "metadata": {},
   "outputs": [],
   "source": []
  },
  {
   "cell_type": "code",
   "execution_count": null,
   "id": "cf123cf8",
   "metadata": {},
   "outputs": [],
   "source": []
  },
  {
   "cell_type": "code",
   "execution_count": null,
   "id": "094b50e4",
   "metadata": {},
   "outputs": [],
   "source": []
  },
  {
   "cell_type": "code",
   "execution_count": null,
   "id": "a552595c",
   "metadata": {},
   "outputs": [],
   "source": []
  }
 ],
 "metadata": {
  "colab": {
   "provenance": []
  },
  "kernelspec": {
   "display_name": "Python 3 (ipykernel)",
   "language": "python",
   "name": "python3"
  },
  "language_info": {
   "codemirror_mode": {
    "name": "ipython",
    "version": 3
   },
   "file_extension": ".py",
   "mimetype": "text/x-python",
   "name": "python",
   "nbconvert_exporter": "python",
   "pygments_lexer": "ipython3",
   "version": "3.10.9"
  }
 },
 "nbformat": 4,
 "nbformat_minor": 5
}
