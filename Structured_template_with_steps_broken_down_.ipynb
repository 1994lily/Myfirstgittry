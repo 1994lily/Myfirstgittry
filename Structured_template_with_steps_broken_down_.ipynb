{
 "cells": [
  {
   "cell_type": "markdown",
   "id": "8d16c437",
   "metadata": {
    "id": "8d16c437"
   },
   "source": [
    "## Load the library"
   ]
  },
  {
   "cell_type": "code",
   "execution_count": null,
   "id": "b4ef2291",
   "metadata": {
    "id": "b4ef2291"
   },
   "outputs": [],
   "source": [
    "## Import all relevant libraries"
   ]
  },
  {
   "cell_type": "code",
   "execution_count": null,
   "id": "5NjbI0Pvoar8",
   "metadata": {
    "id": "5NjbI0Pvoar8"
   },
   "outputs": [],
   "source": []
  },
  {
   "cell_type": "markdown",
   "id": "73c4aaba",
   "metadata": {
    "id": "73c4aaba"
   },
   "source": [
    "## Read the data"
   ]
  },
  {
   "cell_type": "code",
   "execution_count": null,
   "id": "a511396f",
   "metadata": {
    "id": "a511396f"
   },
   "outputs": [],
   "source": [
    "## Load the data from your file or data source."
   ]
  },
  {
   "cell_type": "code",
   "execution_count": null,
   "id": "80618dbd",
   "metadata": {
    "id": "80618dbd"
   },
   "outputs": [],
   "source": []
  },
  {
   "cell_type": "code",
   "execution_count": null,
   "id": "d261a5a8",
   "metadata": {
    "id": "d261a5a8"
   },
   "outputs": [],
   "source": [
    "## Show first 5 rows"
   ]
  },
  {
   "cell_type": "code",
   "execution_count": null,
   "id": "53b76894",
   "metadata": {
    "id": "53b76894"
   },
   "outputs": [],
   "source": []
  },
  {
   "cell_type": "code",
   "execution_count": null,
   "id": "73e59585",
   "metadata": {
    "id": "73e59585"
   },
   "outputs": [],
   "source": [
    "## Show last 5 rows"
   ]
  },
  {
   "cell_type": "code",
   "execution_count": null,
   "id": "c019678e",
   "metadata": {
    "id": "c019678e"
   },
   "outputs": [],
   "source": []
  },
  {
   "cell_type": "code",
   "execution_count": null,
   "id": "a9867afe",
   "metadata": {
    "id": "a9867afe"
   },
   "outputs": [],
   "source": [
    "## Show the info for data"
   ]
  },
  {
   "cell_type": "code",
   "execution_count": null,
   "id": "21285a2e",
   "metadata": {
    "id": "21285a2e"
   },
   "outputs": [],
   "source": []
  },
  {
   "cell_type": "code",
   "execution_count": null,
   "id": "06e24e22",
   "metadata": {
    "id": "06e24e22"
   },
   "outputs": [],
   "source": [
    "## Show the columns"
   ]
  },
  {
   "cell_type": "code",
   "execution_count": null,
   "id": "1bd15451",
   "metadata": {
    "id": "1bd15451"
   },
   "outputs": [],
   "source": []
  },
  {
   "cell_type": "code",
   "execution_count": null,
   "id": "78c07f64",
   "metadata": {
    "id": "78c07f64"
   },
   "outputs": [],
   "source": [
    "## Show the description summary for numerical and categorical values."
   ]
  },
  {
   "cell_type": "code",
   "execution_count": null,
   "id": "e43f5fcb",
   "metadata": {
    "id": "e43f5fcb"
   },
   "outputs": [],
   "source": []
  },
  {
   "cell_type": "markdown",
   "id": "2ed8ea4a",
   "metadata": {
    "id": "2ed8ea4a"
   },
   "source": [
    "# Exploratory Data Analysis"
   ]
  },
  {
   "cell_type": "code",
   "execution_count": null,
   "id": "7e22edae",
   "metadata": {
    "id": "7e22edae"
   },
   "outputs": [],
   "source": []
  },
  {
   "cell_type": "code",
   "execution_count": null,
   "id": "0bfbbeb5",
   "metadata": {
    "id": "0bfbbeb5"
   },
   "outputs": [],
   "source": []
  },
  {
   "cell_type": "markdown",
   "id": "5913d4c3",
   "metadata": {
    "id": "5913d4c3"
   },
   "source": [
    "## Do Numerical Analysis of Columns"
   ]
  },
  {
   "cell_type": "code",
   "execution_count": null,
   "id": "2ed2adb4",
   "metadata": {
    "id": "2ed2adb4"
   },
   "outputs": [],
   "source": [
    "#  Numerical column analysis \n",
    "\n",
    "#  Maximum and mimimum value mean, meadian or std deviation or variance\n",
    "\n",
    "#  You can learn about their distribution.\n",
    "# - Histogram.\n",
    "#  While a histogram is made up of bars that touch each other,it shows counts of values in each range.\n",
    "\n",
    "# - Distribution plot. \n",
    "#  While a density plot shows the proportion of values in each range, a density plot is a smooth curve \n",
    "# that shows the distribution of the data in a more continuous way\n",
    "\n",
    "# Asymmetry \n",
    "# Skewness is a statistical measure of the asymmetry of a probability distribution. \n",
    "# It characterizes the extent to which the distribution of a set of values deviates from a normal distribution.\n",
    "# If the skewness is between -0.5 & 0.5, the data are nearly symmetrical.\n",
    "# If the skewness is between -1 & -0.5 (negative skewed) or between 0.5 & 1(positive skewed), the data are slightly skewed.\n",
    "# If the skewness is lower than -1 (negative skewed) or greater than 1 (positive skewed), the data are extremely skewed.\n",
    "\n",
    "# Quantile Analysis\n",
    "# A quantile defines a particular part of a data set, \n",
    "# i.e. a quantile determines how many values in a distribution are above or below a certain limit.\n",
    "\n",
    "# Analysis of extreme value\n",
    "# - Box Plot\n",
    "# - Violin plot"
   ]
  },
  {
   "cell_type": "code",
   "execution_count": null,
   "id": "ce11a65a",
   "metadata": {
    "id": "ce11a65a"
   },
   "outputs": [],
   "source": []
  },
  {
   "cell_type": "code",
   "execution_count": null,
   "id": "06ef5452",
   "metadata": {
    "id": "06ef5452"
   },
   "outputs": [],
   "source": [
    "## Conclude and write down your observation."
   ]
  },
  {
   "cell_type": "code",
   "execution_count": null,
   "id": "d905003a",
   "metadata": {
    "id": "d905003a"
   },
   "outputs": [],
   "source": []
  },
  {
   "cell_type": "markdown",
   "id": "4a763138",
   "metadata": {
    "id": "4a763138"
   },
   "source": [
    "## Do Categortical  Analysis of Columns"
   ]
  },
  {
   "cell_type": "code",
   "execution_count": null,
   "id": "e16b4f94",
   "metadata": {
    "id": "e16b4f94"
   },
   "outputs": [],
   "source": [
    "#  Categorical column analysis \n",
    "#  You can learn about their count values and their percentage.\n",
    "# value_counts allows you to find the number of each category in the that column.\n",
    "#  Count plot.\n",
    "\n",
    "# find no. of unique values and what are those unique values.\n",
    "\n",
    "#  Word cloud to create most frequently occuring words."
   ]
  },
  {
   "cell_type": "code",
   "execution_count": null,
   "id": "2a455bec",
   "metadata": {
    "id": "2a455bec"
   },
   "outputs": [],
   "source": []
  },
  {
   "cell_type": "code",
   "execution_count": null,
   "id": "931eb027",
   "metadata": {
    "id": "931eb027"
   },
   "outputs": [],
   "source": [
    "## Conclude and write down your observation."
   ]
  },
  {
   "cell_type": "code",
   "execution_count": null,
   "id": "18b92741",
   "metadata": {
    "id": "18b92741"
   },
   "outputs": [],
   "source": []
  },
  {
   "cell_type": "code",
   "execution_count": null,
   "id": "00c8557c",
   "metadata": {
    "id": "00c8557c"
   },
   "outputs": [],
   "source": []
  },
  {
   "cell_type": "markdown",
   "id": "ff7b0d89",
   "metadata": {
    "id": "ff7b0d89"
   },
   "source": [
    "## Combine Numerical and categorical columns for analysis"
   ]
  },
  {
   "cell_type": "code",
   "execution_count": null,
   "id": "fac30b3e",
   "metadata": {
    "id": "fac30b3e"
   },
   "outputs": [],
   "source": []
  },
  {
   "cell_type": "code",
   "execution_count": null,
   "id": "11763ca8",
   "metadata": {
    "id": "11763ca8"
   },
   "outputs": [],
   "source": []
  },
  {
   "cell_type": "markdown",
   "id": "96174544",
   "metadata": {
    "id": "96174544"
   },
   "source": [
    "## Add your own Questions"
   ]
  },
  {
   "cell_type": "code",
   "execution_count": null,
   "id": "44b0bc18",
   "metadata": {
    "id": "44b0bc18"
   },
   "outputs": [],
   "source": []
  },
  {
   "cell_type": "code",
   "execution_count": null,
   "id": "4048253a",
   "metadata": {
    "id": "4048253a"
   },
   "outputs": [],
   "source": []
  },
  {
   "cell_type": "markdown",
   "id": "4986e729",
   "metadata": {
    "id": "4986e729"
   },
   "source": [
    "# Data Cleaning"
   ]
  },
  {
   "cell_type": "markdown",
   "id": "9b661de4",
   "metadata": {
    "id": "9b661de4"
   },
   "source": [
    "## 1. Handling Duplicate data"
   ]
  },
  {
   "cell_type": "code",
   "execution_count": null,
   "id": "91fd3c27",
   "metadata": {
    "id": "91fd3c27"
   },
   "outputs": [],
   "source": [
    "## Check shape of original data"
   ]
  },
  {
   "cell_type": "code",
   "execution_count": null,
   "id": "5a60e696",
   "metadata": {
    "id": "5a60e696"
   },
   "outputs": [],
   "source": []
  },
  {
   "cell_type": "code",
   "execution_count": null,
   "id": "2fefe200",
   "metadata": {
    "id": "2fefe200"
   },
   "outputs": [],
   "source": [
    "## Check shape after applying drop duplicates."
   ]
  },
  {
   "cell_type": "code",
   "execution_count": null,
   "id": "77c2f822",
   "metadata": {
    "id": "77c2f822"
   },
   "outputs": [],
   "source": []
  },
  {
   "cell_type": "code",
   "execution_count": null,
   "id": "41605ed8",
   "metadata": {
    "id": "41605ed8"
   },
   "outputs": [],
   "source": [
    "## Drop duplicate values and reset your index columns."
   ]
  },
  {
   "cell_type": "code",
   "execution_count": null,
   "id": "393bfc6b",
   "metadata": {
    "id": "393bfc6b"
   },
   "outputs": [],
   "source": []
  },
  {
   "cell_type": "code",
   "execution_count": null,
   "id": "e284ddad",
   "metadata": {
    "id": "e284ddad"
   },
   "outputs": [],
   "source": [
    "## Conslusion or what you have done for achieving this."
   ]
  },
  {
   "cell_type": "code",
   "execution_count": null,
   "id": "b914613c",
   "metadata": {
    "id": "b914613c"
   },
   "outputs": [],
   "source": []
  },
  {
   "cell_type": "markdown",
   "id": "1559de2e",
   "metadata": {
    "id": "1559de2e"
   },
   "source": [
    "## 2.  Handling Missing Values"
   ]
  },
  {
   "cell_type": "code",
   "execution_count": null,
   "id": "9fce3bbb",
   "metadata": {
    "id": "9fce3bbb"
   },
   "outputs": [],
   "source": [
    "## Apply isnull() function and find the sum of missing values in all columns."
   ]
  },
  {
   "cell_type": "code",
   "execution_count": null,
   "id": "83fa71f8",
   "metadata": {
    "id": "83fa71f8"
   },
   "outputs": [],
   "source": []
  },
  {
   "cell_type": "code",
   "execution_count": null,
   "id": "6d01bfaf",
   "metadata": {
    "id": "6d01bfaf"
   },
   "outputs": [],
   "source": [
    "## Find missing value in % form."
   ]
  },
  {
   "cell_type": "code",
   "execution_count": null,
   "id": "7ea2505c",
   "metadata": {
    "id": "7ea2505c"
   },
   "outputs": [],
   "source": []
  },
  {
   "cell_type": "code",
   "execution_count": null,
   "id": "184c4be3",
   "metadata": {
    "id": "184c4be3"
   },
   "outputs": [],
   "source": [
    "## Conclude your finding on missing values."
   ]
  },
  {
   "cell_type": "code",
   "execution_count": null,
   "id": "cc44d9f0",
   "metadata": {
    "id": "cc44d9f0"
   },
   "outputs": [],
   "source": []
  },
  {
   "cell_type": "code",
   "execution_count": null,
   "id": "f645ea2d",
   "metadata": {
    "id": "f645ea2d"
   },
   "outputs": [],
   "source": [
    "## Drop the columns based on above analysis."
   ]
  },
  {
   "cell_type": "code",
   "execution_count": null,
   "id": "eb13c4f9",
   "metadata": {
    "id": "eb13c4f9"
   },
   "outputs": [],
   "source": []
  },
  {
   "cell_type": "code",
   "execution_count": null,
   "id": "bb0d4071",
   "metadata": {
    "id": "bb0d4071"
   },
   "outputs": [],
   "source": [
    "## Conslusion or what you have done for achieving this."
   ]
  },
  {
   "cell_type": "code",
   "execution_count": null,
   "id": "16c8d0cf",
   "metadata": {
    "id": "16c8d0cf"
   },
   "outputs": [],
   "source": []
  },
  {
   "cell_type": "markdown",
   "id": "bd3d15d6",
   "metadata": {
    "id": "bd3d15d6"
   },
   "source": [
    "## 3. Handling Outliers "
   ]
  },
  {
   "cell_type": "code",
   "execution_count": null,
   "id": "1d7b253e",
   "metadata": {
    "id": "1d7b253e"
   },
   "outputs": [],
   "source": [
    "## Apply below techniques on numerical columns.\n",
    "\n",
    "# Do box plot and violin plot to identify outliers.\n",
    "\n",
    "# Q1 --> 25%ile of data \n",
    "#     first line of the box plot\n",
    "# Q2 --> median or 50%ile of data\n",
    "#     second line or middle line of the box.\n",
    "# Q3 --> 75%ile of data   \n",
    "#     third line or the last of the box.\n",
    "\n",
    "# IQR --> Interquartile range.\n",
    "#      distance/value between Q1 or 25%ile and Q3 or 75%ile\n",
    "#     IQR = Q3-Q1\n",
    "    \n",
    "# minimum whisker --> Q1 - 1.5*IQR\n",
    "# maximum whisker --> Q3 + 1.5*IQR\n",
    "\n",
    "# Any value below mimimum whisker and above maximum whisker are termed as outlier."
   ]
  },
  {
   "cell_type": "code",
   "execution_count": null,
   "id": "6dd5fceb",
   "metadata": {
    "id": "6dd5fceb"
   },
   "outputs": [],
   "source": []
  },
  {
   "cell_type": "code",
   "execution_count": null,
   "id": "48b35e7d",
   "metadata": {
    "id": "48b35e7d"
   },
   "outputs": [],
   "source": []
  },
  {
   "cell_type": "code",
   "execution_count": null,
   "id": "761f4454",
   "metadata": {
    "id": "761f4454"
   },
   "outputs": [],
   "source": [
    "## Based on your anlysis either drop extreme values or substitute them with more acceptable value."
   ]
  },
  {
   "cell_type": "code",
   "execution_count": null,
   "id": "a16fd58b",
   "metadata": {
    "id": "a16fd58b"
   },
   "outputs": [],
   "source": []
  },
  {
   "cell_type": "code",
   "execution_count": null,
   "id": "57244e92",
   "metadata": {
    "id": "57244e92"
   },
   "outputs": [],
   "source": [
    "## Conslusion or what you have done for achieving this."
   ]
  },
  {
   "cell_type": "code",
   "execution_count": null,
   "id": "8891b12e",
   "metadata": {
    "id": "8891b12e"
   },
   "outputs": [],
   "source": []
  },
  {
   "cell_type": "markdown",
   "id": "19e12467",
   "metadata": {
    "id": "19e12467"
   },
   "source": [
    "## 4. Handling Categoirical Values"
   ]
  },
  {
   "cell_type": "code",
   "execution_count": null,
   "id": "d900d73e",
   "metadata": {
    "id": "d900d73e"
   },
   "outputs": [],
   "source": [
    "## Idea is be to convert these string like values to number.\n",
    "## Collect all Categorical column"
   ]
  },
  {
   "cell_type": "code",
   "execution_count": null,
   "id": "8515d1cd",
   "metadata": {
    "id": "8515d1cd"
   },
   "outputs": [],
   "source": []
  },
  {
   "cell_type": "code",
   "execution_count": null,
   "id": "59ff4198",
   "metadata": {
    "id": "59ff4198"
   },
   "outputs": [],
   "source": [
    "# Ordinal --> Something that shows order.\n",
    "# e.g. \n",
    "# level of education.\n",
    "# 10th,12th,Diploma,Graduation, Masters,Phd\n",
    "# 1,2,3,4,5,6\n",
    "\n",
    "# shopping for clothes t-shirts,\n",
    "# XS,S,M,L,XL,XXL\n",
    "# 1,2,3,4,5,6\n",
    "\n",
    "\n",
    "# -- category encoding\n",
    "# -- mapping of values to number in some order."
   ]
  },
  {
   "cell_type": "code",
   "execution_count": null,
   "id": "cf6ac767",
   "metadata": {
    "id": "cf6ac767"
   },
   "outputs": [],
   "source": []
  },
  {
   "cell_type": "code",
   "execution_count": null,
   "id": "1d7af4e0",
   "metadata": {
    "id": "1d7af4e0"
   },
   "outputs": [],
   "source": [
    "# Nominal --> Something which doesn't show order.\n",
    "# e.g.\n",
    "# cities in India\n",
    "# delhi,mumbai,kolkatta,pune,chennai,hyderabad,bangalore\n",
    "\n",
    "# subject of education\n",
    "# physics,mathematics,chemistry,commerce,biology,english,hindi,sanskrit\n",
    "\n",
    "# gender of human\n",
    "# male, female\n",
    "\n",
    "\n",
    "# sex        sex_male , sex_female\n",
    "# male          1     ,   0\n",
    "# female        0     ,   1 \n",
    "# male          1     ,   0\n",
    "# male          1     ,   0\n",
    "\n",
    "\n",
    "# -- One-hot encoding.\n",
    "# by which we convert the individual values in the column to a new column\n",
    "# by making available value for row as 1 and other as 0.\n",
    "\n",
    "# different ways of applying one-hot encoding:\n",
    "#     1. to apply using pandas pd.get_dummies\n",
    "#     2. to is sklearn (scientic package for mode building).\n",
    "    \n",
    "# there is a limitation of one-hot encoding.\n",
    "# Suppose there is a data which 100000 row and has a column city which 1000 unique city.\n",
    "\n",
    "# no. of unique values in a categorical coilumn is reffered to as cardinality.\n",
    "# if a caloumn has 5-7 uniques values they are reffred to as medium to low cardinality.\n",
    "# if this no. increase to more than 10 then it becomes high cardinarility.\n",
    "\n",
    "# Cardinality of nominal values values are high.\n",
    "# there is a limitation of one-hot encoding.\n",
    "# Suppose there is a data which 100000 row and has a column city which 1000 unique city.\n",
    "\n",
    "# -- frequency encoding\n",
    "# city     city\n",
    "# pune     0.14 \n",
    "# ...\n",
    "# ...\n",
    "# delhi    0.26\n",
    "# etc.\n",
    "\n",
    "# value_counts() \n",
    "# use frequency of how many times pune has occured 1200 or in % form.\n",
    "\n",
    "# -- target-mean encoding\n",
    "# city       survived\n",
    "# pune          1 \n",
    "# ...           0   \n",
    "# delhi\n",
    "# bangalore\n",
    "# ...\n",
    "# etc.\n",
    "\n",
    "# link for different technique.\n",
    "# http://contrib.scikit-learn.org/category_encoders/"
   ]
  },
  {
   "cell_type": "code",
   "execution_count": null,
   "id": "b45077ca",
   "metadata": {
    "id": "b45077ca"
   },
   "outputs": [],
   "source": []
  },
  {
   "cell_type": "code",
   "execution_count": null,
   "id": "c7a68270",
   "metadata": {
    "id": "c7a68270"
   },
   "outputs": [],
   "source": []
  },
  {
   "cell_type": "code",
   "execution_count": null,
   "id": "b3dccd6b",
   "metadata": {
    "id": "b3dccd6b"
   },
   "outputs": [],
   "source": [
    "## Conslusion or what you have done for achieving this."
   ]
  },
  {
   "cell_type": "code",
   "execution_count": null,
   "id": "c85d340f",
   "metadata": {
    "id": "c85d340f"
   },
   "outputs": [],
   "source": []
  },
  {
   "cell_type": "code",
   "execution_count": null,
   "id": "640e6bc6",
   "metadata": {
    "id": "640e6bc6"
   },
   "outputs": [],
   "source": []
  },
  {
   "cell_type": "markdown",
   "id": "f0f74d32",
   "metadata": {
    "id": "f0f74d32"
   },
   "source": [
    "## 5 . Handling Numerical values"
   ]
  },
  {
   "cell_type": "code",
   "execution_count": null,
   "id": "64bf80fd",
   "metadata": {
    "id": "64bf80fd"
   },
   "outputs": [],
   "source": [
    "## Whether the data is symmetrical or not.\n",
    "## Plot histogram and distribution plot."
   ]
  },
  {
   "cell_type": "code",
   "execution_count": null,
   "id": "74715967",
   "metadata": {
    "id": "74715967"
   },
   "outputs": [],
   "source": []
  },
  {
   "cell_type": "code",
   "execution_count": null,
   "id": "73e5f55d",
   "metadata": {
    "id": "73e5f55d"
   },
   "outputs": [],
   "source": [
    "## If your data is not skwed and symmetrical apply standard scaler."
   ]
  },
  {
   "cell_type": "code",
   "execution_count": null,
   "id": "c3404d64",
   "metadata": {
    "id": "c3404d64"
   },
   "outputs": [],
   "source": []
  },
  {
   "cell_type": "code",
   "execution_count": null,
   "id": "9bdf16a1",
   "metadata": {
    "id": "9bdf16a1"
   },
   "outputs": [],
   "source": [
    "## Confirm the distribution patter by Plot histogram and distribution plot again."
   ]
  },
  {
   "cell_type": "code",
   "execution_count": null,
   "id": "c208c2ca",
   "metadata": {
    "id": "c208c2ca"
   },
   "outputs": [],
   "source": []
  },
  {
   "cell_type": "code",
   "execution_count": null,
   "id": "c4d208ce",
   "metadata": {
    "id": "c4d208ce"
   },
   "outputs": [],
   "source": [
    "## If your data is skwed and non-symmetrical apply min-max scaler."
   ]
  },
  {
   "cell_type": "code",
   "execution_count": null,
   "id": "e8825761",
   "metadata": {
    "id": "e8825761"
   },
   "outputs": [],
   "source": []
  },
  {
   "cell_type": "code",
   "execution_count": null,
   "id": "acdd50aa",
   "metadata": {
    "id": "acdd50aa"
   },
   "outputs": [],
   "source": [
    "## Confirm the distribution patter by Plot histogram and distribution plot again."
   ]
  },
  {
   "cell_type": "code",
   "execution_count": null,
   "id": "408c25f3",
   "metadata": {
    "id": "408c25f3"
   },
   "outputs": [],
   "source": []
  },
  {
   "cell_type": "code",
   "execution_count": null,
   "id": "89aeb0e6",
   "metadata": {
    "id": "89aeb0e6"
   },
   "outputs": [],
   "source": [
    "## Conslusion or what you have done for achieving this."
   ]
  },
  {
   "cell_type": "code",
   "execution_count": null,
   "id": "c905ab89",
   "metadata": {
    "id": "c905ab89"
   },
   "outputs": [],
   "source": []
  },
  {
   "cell_type": "code",
   "execution_count": null,
   "id": "6d4e667d",
   "metadata": {
    "id": "6d4e667d"
   },
   "outputs": [],
   "source": []
  },
  {
   "cell_type": "markdown",
   "id": "1cfc3e2e",
   "metadata": {
    "id": "1cfc3e2e"
   },
   "source": [
    "# Model Building"
   ]
  },
  {
   "cell_type": "code",
   "execution_count": null,
   "id": "dd0357fe",
   "metadata": {
    "id": "dd0357fe"
   },
   "outputs": [],
   "source": []
  },
  {
   "cell_type": "code",
   "execution_count": null,
   "id": "61c43917",
   "metadata": {
    "id": "61c43917"
   },
   "outputs": [],
   "source": []
  }
 ],
 "metadata": {
  "colab": {
   "provenance": []
  },
  "kernelspec": {
   "display_name": "Python 3 (ipykernel)",
   "language": "python",
   "name": "python3"
  },
  "language_info": {
   "codemirror_mode": {
    "name": "ipython",
    "version": 3
   },
   "file_extension": ".py",
   "mimetype": "text/x-python",
   "name": "python",
   "nbconvert_exporter": "python",
   "pygments_lexer": "ipython3",
   "version": "3.10.9"
  }
 },
 "nbformat": 4,
 "nbformat_minor": 5
}
