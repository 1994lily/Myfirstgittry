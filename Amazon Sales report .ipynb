{
 "cells": [
  {
   "cell_type": "markdown",
   "id": "8d16c437",
   "metadata": {
    "id": "8d16c437"
   },
   "source": [
    "## Load the library"
   ]
  },
  {
   "cell_type": "code",
   "execution_count": 1,
   "id": "b4ef2291",
   "metadata": {
    "id": "b4ef2291"
   },
   "outputs": [],
   "source": [
    "## Import all relevant libraries"
   ]
  },
  {
   "cell_type": "code",
   "execution_count": 2,
   "id": "5NjbI0Pvoar8",
   "metadata": {
    "id": "5NjbI0Pvoar8"
   },
   "outputs": [],
   "source": [
    "import pandas as pd\n",
    "import numpy as np\n",
    "import matplotlib.pyplot as plt\n",
    "import seaborn as sns"
   ]
  },
  {
   "cell_type": "markdown",
   "id": "73c4aaba",
   "metadata": {
    "id": "73c4aaba"
   },
   "source": [
    "## Read the data"
   ]
  },
  {
   "cell_type": "code",
   "execution_count": 3,
   "id": "a511396f",
   "metadata": {
    "id": "a511396f"
   },
   "outputs": [],
   "source": [
    "## Load the data from your file or data source."
   ]
  },
  {
   "cell_type": "code",
   "execution_count": 4,
   "id": "80618dbd",
   "metadata": {
    "id": "80618dbd"
   },
   "outputs": [
    {
     "name": "stderr",
     "output_type": "stream",
     "text": [
      "C:\\Users\\HP\\AppData\\Local\\Temp\\ipykernel_11036\\2793527750.py:1: DtypeWarning: Columns (23) have mixed types. Specify dtype option on import or set low_memory=False.\n",
      "  df= pd.read_csv('Amazon Sale Report.csv')\n"
     ]
    }
   ],
   "source": [
    "df= pd.read_csv('Amazon Sale Report.csv')"
   ]
  },
  {
   "cell_type": "code",
   "execution_count": 5,
   "id": "d261a5a8",
   "metadata": {
    "id": "d261a5a8"
   },
   "outputs": [],
   "source": [
    "## Show first 5 rows"
   ]
  },
  {
   "cell_type": "code",
   "execution_count": 6,
   "id": "53b76894",
   "metadata": {
    "id": "53b76894"
   },
   "outputs": [
    {
     "data": {
      "text/html": [
       "<div>\n",
       "<style scoped>\n",
       "    .dataframe tbody tr th:only-of-type {\n",
       "        vertical-align: middle;\n",
       "    }\n",
       "\n",
       "    .dataframe tbody tr th {\n",
       "        vertical-align: top;\n",
       "    }\n",
       "\n",
       "    .dataframe thead th {\n",
       "        text-align: right;\n",
       "    }\n",
       "</style>\n",
       "<table border=\"1\" class=\"dataframe\">\n",
       "  <thead>\n",
       "    <tr style=\"text-align: right;\">\n",
       "      <th></th>\n",
       "      <th>index</th>\n",
       "      <th>Order ID</th>\n",
       "      <th>Date</th>\n",
       "      <th>Status</th>\n",
       "      <th>Fulfilment</th>\n",
       "      <th>Sales Channel</th>\n",
       "      <th>ship-service-level</th>\n",
       "      <th>Style</th>\n",
       "      <th>SKU</th>\n",
       "      <th>Category</th>\n",
       "      <th>...</th>\n",
       "      <th>currency</th>\n",
       "      <th>Amount</th>\n",
       "      <th>ship-city</th>\n",
       "      <th>ship-state</th>\n",
       "      <th>ship-postal-code</th>\n",
       "      <th>ship-country</th>\n",
       "      <th>promotion-ids</th>\n",
       "      <th>B2B</th>\n",
       "      <th>fulfilled-by</th>\n",
       "      <th>Unnamed: 22</th>\n",
       "    </tr>\n",
       "  </thead>\n",
       "  <tbody>\n",
       "    <tr>\n",
       "      <th>0</th>\n",
       "      <td>0</td>\n",
       "      <td>405-8078784-5731545</td>\n",
       "      <td>04-30-22</td>\n",
       "      <td>Cancelled</td>\n",
       "      <td>Merchant</td>\n",
       "      <td>Amazon.in</td>\n",
       "      <td>Standard</td>\n",
       "      <td>SET389</td>\n",
       "      <td>SET389-KR-NP-S</td>\n",
       "      <td>Set</td>\n",
       "      <td>...</td>\n",
       "      <td>INR</td>\n",
       "      <td>647.62</td>\n",
       "      <td>MUMBAI</td>\n",
       "      <td>MAHARASHTRA</td>\n",
       "      <td>400081.0</td>\n",
       "      <td>IN</td>\n",
       "      <td>NaN</td>\n",
       "      <td>False</td>\n",
       "      <td>Easy Ship</td>\n",
       "      <td>NaN</td>\n",
       "    </tr>\n",
       "    <tr>\n",
       "      <th>1</th>\n",
       "      <td>1</td>\n",
       "      <td>171-9198151-1101146</td>\n",
       "      <td>04-30-22</td>\n",
       "      <td>Shipped - Delivered to Buyer</td>\n",
       "      <td>Merchant</td>\n",
       "      <td>Amazon.in</td>\n",
       "      <td>Standard</td>\n",
       "      <td>JNE3781</td>\n",
       "      <td>JNE3781-KR-XXXL</td>\n",
       "      <td>kurta</td>\n",
       "      <td>...</td>\n",
       "      <td>INR</td>\n",
       "      <td>406.00</td>\n",
       "      <td>BENGALURU</td>\n",
       "      <td>KARNATAKA</td>\n",
       "      <td>560085.0</td>\n",
       "      <td>IN</td>\n",
       "      <td>Amazon PLCC Free-Financing Universal Merchant ...</td>\n",
       "      <td>False</td>\n",
       "      <td>Easy Ship</td>\n",
       "      <td>NaN</td>\n",
       "    </tr>\n",
       "    <tr>\n",
       "      <th>2</th>\n",
       "      <td>2</td>\n",
       "      <td>404-0687676-7273146</td>\n",
       "      <td>04-30-22</td>\n",
       "      <td>Shipped</td>\n",
       "      <td>Amazon</td>\n",
       "      <td>Amazon.in</td>\n",
       "      <td>Expedited</td>\n",
       "      <td>JNE3371</td>\n",
       "      <td>JNE3371-KR-XL</td>\n",
       "      <td>kurta</td>\n",
       "      <td>...</td>\n",
       "      <td>INR</td>\n",
       "      <td>329.00</td>\n",
       "      <td>NAVI MUMBAI</td>\n",
       "      <td>MAHARASHTRA</td>\n",
       "      <td>410210.0</td>\n",
       "      <td>IN</td>\n",
       "      <td>IN Core Free Shipping 2015/04/08 23-48-5-108</td>\n",
       "      <td>True</td>\n",
       "      <td>NaN</td>\n",
       "      <td>NaN</td>\n",
       "    </tr>\n",
       "    <tr>\n",
       "      <th>3</th>\n",
       "      <td>3</td>\n",
       "      <td>403-9615377-8133951</td>\n",
       "      <td>04-30-22</td>\n",
       "      <td>Cancelled</td>\n",
       "      <td>Merchant</td>\n",
       "      <td>Amazon.in</td>\n",
       "      <td>Standard</td>\n",
       "      <td>J0341</td>\n",
       "      <td>J0341-DR-L</td>\n",
       "      <td>Western Dress</td>\n",
       "      <td>...</td>\n",
       "      <td>INR</td>\n",
       "      <td>753.33</td>\n",
       "      <td>PUDUCHERRY</td>\n",
       "      <td>PUDUCHERRY</td>\n",
       "      <td>605008.0</td>\n",
       "      <td>IN</td>\n",
       "      <td>NaN</td>\n",
       "      <td>False</td>\n",
       "      <td>Easy Ship</td>\n",
       "      <td>NaN</td>\n",
       "    </tr>\n",
       "    <tr>\n",
       "      <th>4</th>\n",
       "      <td>4</td>\n",
       "      <td>407-1069790-7240320</td>\n",
       "      <td>04-30-22</td>\n",
       "      <td>Shipped</td>\n",
       "      <td>Amazon</td>\n",
       "      <td>Amazon.in</td>\n",
       "      <td>Expedited</td>\n",
       "      <td>JNE3671</td>\n",
       "      <td>JNE3671-TU-XXXL</td>\n",
       "      <td>Top</td>\n",
       "      <td>...</td>\n",
       "      <td>INR</td>\n",
       "      <td>574.00</td>\n",
       "      <td>CHENNAI</td>\n",
       "      <td>TAMIL NADU</td>\n",
       "      <td>600073.0</td>\n",
       "      <td>IN</td>\n",
       "      <td>NaN</td>\n",
       "      <td>False</td>\n",
       "      <td>NaN</td>\n",
       "      <td>NaN</td>\n",
       "    </tr>\n",
       "  </tbody>\n",
       "</table>\n",
       "<p>5 rows × 24 columns</p>\n",
       "</div>"
      ],
      "text/plain": [
       "   index             Order ID      Date                        Status   \n",
       "0      0  405-8078784-5731545  04-30-22                     Cancelled  \\\n",
       "1      1  171-9198151-1101146  04-30-22  Shipped - Delivered to Buyer   \n",
       "2      2  404-0687676-7273146  04-30-22                       Shipped   \n",
       "3      3  403-9615377-8133951  04-30-22                     Cancelled   \n",
       "4      4  407-1069790-7240320  04-30-22                       Shipped   \n",
       "\n",
       "  Fulfilment Sales Channel  ship-service-level    Style              SKU   \n",
       "0   Merchant      Amazon.in           Standard   SET389   SET389-KR-NP-S  \\\n",
       "1   Merchant      Amazon.in           Standard  JNE3781  JNE3781-KR-XXXL   \n",
       "2     Amazon      Amazon.in          Expedited  JNE3371    JNE3371-KR-XL   \n",
       "3   Merchant      Amazon.in           Standard    J0341       J0341-DR-L   \n",
       "4     Amazon      Amazon.in          Expedited  JNE3671  JNE3671-TU-XXXL   \n",
       "\n",
       "        Category  ... currency  Amount    ship-city   ship-state   \n",
       "0            Set  ...      INR  647.62       MUMBAI  MAHARASHTRA  \\\n",
       "1          kurta  ...      INR  406.00    BENGALURU    KARNATAKA   \n",
       "2          kurta  ...      INR  329.00  NAVI MUMBAI  MAHARASHTRA   \n",
       "3  Western Dress  ...      INR  753.33   PUDUCHERRY   PUDUCHERRY   \n",
       "4            Top  ...      INR  574.00      CHENNAI   TAMIL NADU   \n",
       "\n",
       "  ship-postal-code  ship-country   \n",
       "0         400081.0            IN  \\\n",
       "1         560085.0            IN   \n",
       "2         410210.0            IN   \n",
       "3         605008.0            IN   \n",
       "4         600073.0            IN   \n",
       "\n",
       "                                       promotion-ids    B2B  fulfilled-by   \n",
       "0                                                NaN  False     Easy Ship  \\\n",
       "1  Amazon PLCC Free-Financing Universal Merchant ...  False     Easy Ship   \n",
       "2       IN Core Free Shipping 2015/04/08 23-48-5-108   True           NaN   \n",
       "3                                                NaN  False     Easy Ship   \n",
       "4                                                NaN  False           NaN   \n",
       "\n",
       "  Unnamed: 22  \n",
       "0         NaN  \n",
       "1         NaN  \n",
       "2         NaN  \n",
       "3         NaN  \n",
       "4         NaN  \n",
       "\n",
       "[5 rows x 24 columns]"
      ]
     },
     "execution_count": 6,
     "metadata": {},
     "output_type": "execute_result"
    }
   ],
   "source": [
    "df.head()"
   ]
  },
  {
   "cell_type": "code",
   "execution_count": 7,
   "id": "73e59585",
   "metadata": {
    "id": "73e59585"
   },
   "outputs": [],
   "source": [
    "## Show last 5 rows"
   ]
  },
  {
   "cell_type": "code",
   "execution_count": 8,
   "id": "c019678e",
   "metadata": {
    "id": "c019678e"
   },
   "outputs": [
    {
     "data": {
      "text/html": [
       "<div>\n",
       "<style scoped>\n",
       "    .dataframe tbody tr th:only-of-type {\n",
       "        vertical-align: middle;\n",
       "    }\n",
       "\n",
       "    .dataframe tbody tr th {\n",
       "        vertical-align: top;\n",
       "    }\n",
       "\n",
       "    .dataframe thead th {\n",
       "        text-align: right;\n",
       "    }\n",
       "</style>\n",
       "<table border=\"1\" class=\"dataframe\">\n",
       "  <thead>\n",
       "    <tr style=\"text-align: right;\">\n",
       "      <th></th>\n",
       "      <th>index</th>\n",
       "      <th>Order ID</th>\n",
       "      <th>Date</th>\n",
       "      <th>Status</th>\n",
       "      <th>Fulfilment</th>\n",
       "      <th>Sales Channel</th>\n",
       "      <th>ship-service-level</th>\n",
       "      <th>Style</th>\n",
       "      <th>SKU</th>\n",
       "      <th>Category</th>\n",
       "      <th>...</th>\n",
       "      <th>currency</th>\n",
       "      <th>Amount</th>\n",
       "      <th>ship-city</th>\n",
       "      <th>ship-state</th>\n",
       "      <th>ship-postal-code</th>\n",
       "      <th>ship-country</th>\n",
       "      <th>promotion-ids</th>\n",
       "      <th>B2B</th>\n",
       "      <th>fulfilled-by</th>\n",
       "      <th>Unnamed: 22</th>\n",
       "    </tr>\n",
       "  </thead>\n",
       "  <tbody>\n",
       "    <tr>\n",
       "      <th>128970</th>\n",
       "      <td>128970</td>\n",
       "      <td>406-6001380-7673107</td>\n",
       "      <td>05-31-22</td>\n",
       "      <td>Shipped</td>\n",
       "      <td>Amazon</td>\n",
       "      <td>Amazon.in</td>\n",
       "      <td>Expedited</td>\n",
       "      <td>JNE3697</td>\n",
       "      <td>JNE3697-KR-XL</td>\n",
       "      <td>kurta</td>\n",
       "      <td>...</td>\n",
       "      <td>INR</td>\n",
       "      <td>517.0</td>\n",
       "      <td>HYDERABAD</td>\n",
       "      <td>TELANGANA</td>\n",
       "      <td>500013.0</td>\n",
       "      <td>IN</td>\n",
       "      <td>NaN</td>\n",
       "      <td>False</td>\n",
       "      <td>NaN</td>\n",
       "      <td>False</td>\n",
       "    </tr>\n",
       "    <tr>\n",
       "      <th>128971</th>\n",
       "      <td>128971</td>\n",
       "      <td>402-9551604-7544318</td>\n",
       "      <td>05-31-22</td>\n",
       "      <td>Shipped</td>\n",
       "      <td>Amazon</td>\n",
       "      <td>Amazon.in</td>\n",
       "      <td>Expedited</td>\n",
       "      <td>SET401</td>\n",
       "      <td>SET401-KR-NP-M</td>\n",
       "      <td>Set</td>\n",
       "      <td>...</td>\n",
       "      <td>INR</td>\n",
       "      <td>999.0</td>\n",
       "      <td>GURUGRAM</td>\n",
       "      <td>HARYANA</td>\n",
       "      <td>122004.0</td>\n",
       "      <td>IN</td>\n",
       "      <td>IN Core Free Shipping 2015/04/08 23-48-5-108</td>\n",
       "      <td>False</td>\n",
       "      <td>NaN</td>\n",
       "      <td>False</td>\n",
       "    </tr>\n",
       "    <tr>\n",
       "      <th>128972</th>\n",
       "      <td>128972</td>\n",
       "      <td>407-9547469-3152358</td>\n",
       "      <td>05-31-22</td>\n",
       "      <td>Shipped</td>\n",
       "      <td>Amazon</td>\n",
       "      <td>Amazon.in</td>\n",
       "      <td>Expedited</td>\n",
       "      <td>J0157</td>\n",
       "      <td>J0157-DR-XXL</td>\n",
       "      <td>Western Dress</td>\n",
       "      <td>...</td>\n",
       "      <td>INR</td>\n",
       "      <td>690.0</td>\n",
       "      <td>HYDERABAD</td>\n",
       "      <td>TELANGANA</td>\n",
       "      <td>500049.0</td>\n",
       "      <td>IN</td>\n",
       "      <td>NaN</td>\n",
       "      <td>False</td>\n",
       "      <td>NaN</td>\n",
       "      <td>False</td>\n",
       "    </tr>\n",
       "    <tr>\n",
       "      <th>128973</th>\n",
       "      <td>128973</td>\n",
       "      <td>402-6184140-0545956</td>\n",
       "      <td>05-31-22</td>\n",
       "      <td>Shipped</td>\n",
       "      <td>Amazon</td>\n",
       "      <td>Amazon.in</td>\n",
       "      <td>Expedited</td>\n",
       "      <td>J0012</td>\n",
       "      <td>J0012-SKD-XS</td>\n",
       "      <td>Set</td>\n",
       "      <td>...</td>\n",
       "      <td>INR</td>\n",
       "      <td>1199.0</td>\n",
       "      <td>Halol</td>\n",
       "      <td>Gujarat</td>\n",
       "      <td>389350.0</td>\n",
       "      <td>IN</td>\n",
       "      <td>IN Core Free Shipping 2015/04/08 23-48-5-108</td>\n",
       "      <td>False</td>\n",
       "      <td>NaN</td>\n",
       "      <td>False</td>\n",
       "    </tr>\n",
       "    <tr>\n",
       "      <th>128974</th>\n",
       "      <td>128974</td>\n",
       "      <td>408-7436540-8728312</td>\n",
       "      <td>05-31-22</td>\n",
       "      <td>Shipped</td>\n",
       "      <td>Amazon</td>\n",
       "      <td>Amazon.in</td>\n",
       "      <td>Expedited</td>\n",
       "      <td>J0003</td>\n",
       "      <td>J0003-SET-S</td>\n",
       "      <td>Set</td>\n",
       "      <td>...</td>\n",
       "      <td>INR</td>\n",
       "      <td>696.0</td>\n",
       "      <td>Raipur</td>\n",
       "      <td>CHHATTISGARH</td>\n",
       "      <td>492014.0</td>\n",
       "      <td>IN</td>\n",
       "      <td>IN Core Free Shipping 2015/04/08 23-48-5-108</td>\n",
       "      <td>False</td>\n",
       "      <td>NaN</td>\n",
       "      <td>False</td>\n",
       "    </tr>\n",
       "  </tbody>\n",
       "</table>\n",
       "<p>5 rows × 24 columns</p>\n",
       "</div>"
      ],
      "text/plain": [
       "         index             Order ID      Date   Status Fulfilment   \n",
       "128970  128970  406-6001380-7673107  05-31-22  Shipped     Amazon  \\\n",
       "128971  128971  402-9551604-7544318  05-31-22  Shipped     Amazon   \n",
       "128972  128972  407-9547469-3152358  05-31-22  Shipped     Amazon   \n",
       "128973  128973  402-6184140-0545956  05-31-22  Shipped     Amazon   \n",
       "128974  128974  408-7436540-8728312  05-31-22  Shipped     Amazon   \n",
       "\n",
       "       Sales Channel  ship-service-level    Style             SKU   \n",
       "128970      Amazon.in          Expedited  JNE3697   JNE3697-KR-XL  \\\n",
       "128971      Amazon.in          Expedited   SET401  SET401-KR-NP-M   \n",
       "128972      Amazon.in          Expedited    J0157    J0157-DR-XXL   \n",
       "128973      Amazon.in          Expedited    J0012    J0012-SKD-XS   \n",
       "128974      Amazon.in          Expedited    J0003     J0003-SET-S   \n",
       "\n",
       "             Category  ... currency  Amount  ship-city    ship-state   \n",
       "128970          kurta  ...      INR   517.0  HYDERABAD     TELANGANA  \\\n",
       "128971            Set  ...      INR   999.0   GURUGRAM       HARYANA   \n",
       "128972  Western Dress  ...      INR   690.0  HYDERABAD     TELANGANA   \n",
       "128973            Set  ...      INR  1199.0      Halol       Gujarat   \n",
       "128974            Set  ...      INR   696.0     Raipur  CHHATTISGARH   \n",
       "\n",
       "       ship-postal-code  ship-country   \n",
       "128970         500013.0            IN  \\\n",
       "128971         122004.0            IN   \n",
       "128972         500049.0            IN   \n",
       "128973         389350.0            IN   \n",
       "128974         492014.0            IN   \n",
       "\n",
       "                                       promotion-ids    B2B  fulfilled-by   \n",
       "128970                                           NaN  False           NaN  \\\n",
       "128971  IN Core Free Shipping 2015/04/08 23-48-5-108  False           NaN   \n",
       "128972                                           NaN  False           NaN   \n",
       "128973  IN Core Free Shipping 2015/04/08 23-48-5-108  False           NaN   \n",
       "128974  IN Core Free Shipping 2015/04/08 23-48-5-108  False           NaN   \n",
       "\n",
       "       Unnamed: 22  \n",
       "128970       False  \n",
       "128971       False  \n",
       "128972       False  \n",
       "128973       False  \n",
       "128974       False  \n",
       "\n",
       "[5 rows x 24 columns]"
      ]
     },
     "execution_count": 8,
     "metadata": {},
     "output_type": "execute_result"
    }
   ],
   "source": [
    "df.tail()"
   ]
  },
  {
   "cell_type": "code",
   "execution_count": 9,
   "id": "a9867afe",
   "metadata": {
    "id": "a9867afe"
   },
   "outputs": [],
   "source": [
    "## Show the info for data"
   ]
  },
  {
   "cell_type": "code",
   "execution_count": 10,
   "id": "21285a2e",
   "metadata": {
    "id": "21285a2e"
   },
   "outputs": [
    {
     "name": "stdout",
     "output_type": "stream",
     "text": [
      "<class 'pandas.core.frame.DataFrame'>\n",
      "RangeIndex: 128975 entries, 0 to 128974\n",
      "Data columns (total 24 columns):\n",
      " #   Column              Non-Null Count   Dtype  \n",
      "---  ------              --------------   -----  \n",
      " 0   index               128975 non-null  int64  \n",
      " 1   Order ID            128975 non-null  object \n",
      " 2   Date                128975 non-null  object \n",
      " 3   Status              128975 non-null  object \n",
      " 4   Fulfilment          128975 non-null  object \n",
      " 5   Sales Channel       128975 non-null  object \n",
      " 6   ship-service-level  128975 non-null  object \n",
      " 7   Style               128975 non-null  object \n",
      " 8   SKU                 128975 non-null  object \n",
      " 9   Category            128975 non-null  object \n",
      " 10  Size                128975 non-null  object \n",
      " 11  ASIN                128975 non-null  object \n",
      " 12  Courier Status      122103 non-null  object \n",
      " 13  Qty                 128975 non-null  int64  \n",
      " 14  currency            121180 non-null  object \n",
      " 15  Amount              121180 non-null  float64\n",
      " 16  ship-city           128942 non-null  object \n",
      " 17  ship-state          128942 non-null  object \n",
      " 18  ship-postal-code    128942 non-null  float64\n",
      " 19  ship-country        128942 non-null  object \n",
      " 20  promotion-ids       79822 non-null   object \n",
      " 21  B2B                 128975 non-null  bool   \n",
      " 22  fulfilled-by        39277 non-null   object \n",
      " 23  Unnamed: 22         79925 non-null   object \n",
      "dtypes: bool(1), float64(2), int64(2), object(19)\n",
      "memory usage: 22.8+ MB\n"
     ]
    }
   ],
   "source": [
    "df.info()"
   ]
  },
  {
   "cell_type": "code",
   "execution_count": 11,
   "id": "bf7cfb7e",
   "metadata": {},
   "outputs": [
    {
     "data": {
      "text/html": [
       "<div>\n",
       "<style scoped>\n",
       "    .dataframe tbody tr th:only-of-type {\n",
       "        vertical-align: middle;\n",
       "    }\n",
       "\n",
       "    .dataframe tbody tr th {\n",
       "        vertical-align: top;\n",
       "    }\n",
       "\n",
       "    .dataframe thead th {\n",
       "        text-align: right;\n",
       "    }\n",
       "</style>\n",
       "<table border=\"1\" class=\"dataframe\">\n",
       "  <thead>\n",
       "    <tr style=\"text-align: right;\">\n",
       "      <th></th>\n",
       "      <th>Order ID</th>\n",
       "      <th>Date</th>\n",
       "      <th>Status</th>\n",
       "      <th>Fulfilment</th>\n",
       "      <th>Sales Channel</th>\n",
       "      <th>ship-service-level</th>\n",
       "      <th>Style</th>\n",
       "      <th>SKU</th>\n",
       "      <th>Category</th>\n",
       "      <th>Size</th>\n",
       "      <th>ASIN</th>\n",
       "      <th>Courier Status</th>\n",
       "      <th>currency</th>\n",
       "      <th>ship-city</th>\n",
       "      <th>ship-state</th>\n",
       "      <th>ship-country</th>\n",
       "      <th>promotion-ids</th>\n",
       "      <th>fulfilled-by</th>\n",
       "      <th>Unnamed: 22</th>\n",
       "    </tr>\n",
       "  </thead>\n",
       "  <tbody>\n",
       "    <tr>\n",
       "      <th>count</th>\n",
       "      <td>128975</td>\n",
       "      <td>128975</td>\n",
       "      <td>128975</td>\n",
       "      <td>128975</td>\n",
       "      <td>128975</td>\n",
       "      <td>128975</td>\n",
       "      <td>128975</td>\n",
       "      <td>128975</td>\n",
       "      <td>128975</td>\n",
       "      <td>128975</td>\n",
       "      <td>128975</td>\n",
       "      <td>122103</td>\n",
       "      <td>121180</td>\n",
       "      <td>128942</td>\n",
       "      <td>128942</td>\n",
       "      <td>128942</td>\n",
       "      <td>79822</td>\n",
       "      <td>39277</td>\n",
       "      <td>79925</td>\n",
       "    </tr>\n",
       "    <tr>\n",
       "      <th>unique</th>\n",
       "      <td>120378</td>\n",
       "      <td>91</td>\n",
       "      <td>13</td>\n",
       "      <td>2</td>\n",
       "      <td>2</td>\n",
       "      <td>2</td>\n",
       "      <td>1377</td>\n",
       "      <td>7195</td>\n",
       "      <td>9</td>\n",
       "      <td>11</td>\n",
       "      <td>7190</td>\n",
       "      <td>3</td>\n",
       "      <td>1</td>\n",
       "      <td>8955</td>\n",
       "      <td>69</td>\n",
       "      <td>1</td>\n",
       "      <td>5787</td>\n",
       "      <td>1</td>\n",
       "      <td>1</td>\n",
       "    </tr>\n",
       "    <tr>\n",
       "      <th>top</th>\n",
       "      <td>171-5057375-2831560</td>\n",
       "      <td>05-03-22</td>\n",
       "      <td>Shipped</td>\n",
       "      <td>Amazon</td>\n",
       "      <td>Amazon.in</td>\n",
       "      <td>Expedited</td>\n",
       "      <td>JNE3797</td>\n",
       "      <td>JNE3797-KR-L</td>\n",
       "      <td>Set</td>\n",
       "      <td>M</td>\n",
       "      <td>B09SDXFFQ1</td>\n",
       "      <td>Shipped</td>\n",
       "      <td>INR</td>\n",
       "      <td>BENGALURU</td>\n",
       "      <td>MAHARASHTRA</td>\n",
       "      <td>IN</td>\n",
       "      <td>IN Core Free Shipping 2015/04/08 23-48-5-108</td>\n",
       "      <td>Easy Ship</td>\n",
       "      <td>False</td>\n",
       "    </tr>\n",
       "    <tr>\n",
       "      <th>freq</th>\n",
       "      <td>12</td>\n",
       "      <td>2085</td>\n",
       "      <td>77804</td>\n",
       "      <td>89698</td>\n",
       "      <td>128851</td>\n",
       "      <td>88615</td>\n",
       "      <td>4224</td>\n",
       "      <td>773</td>\n",
       "      <td>50284</td>\n",
       "      <td>22711</td>\n",
       "      <td>773</td>\n",
       "      <td>109487</td>\n",
       "      <td>121180</td>\n",
       "      <td>11217</td>\n",
       "      <td>22260</td>\n",
       "      <td>128942</td>\n",
       "      <td>46100</td>\n",
       "      <td>39277</td>\n",
       "      <td>79925</td>\n",
       "    </tr>\n",
       "  </tbody>\n",
       "</table>\n",
       "</div>"
      ],
      "text/plain": [
       "                   Order ID      Date   Status Fulfilment Sales Channel    \n",
       "count                128975    128975   128975     128975         128975  \\\n",
       "unique               120378        91       13          2              2   \n",
       "top     171-5057375-2831560  05-03-22  Shipped     Amazon      Amazon.in   \n",
       "freq                     12      2085    77804      89698         128851   \n",
       "\n",
       "       ship-service-level    Style           SKU Category    Size        ASIN   \n",
       "count              128975   128975        128975   128975  128975      128975  \\\n",
       "unique                  2     1377          7195        9      11        7190   \n",
       "top             Expedited  JNE3797  JNE3797-KR-L      Set       M  B09SDXFFQ1   \n",
       "freq                88615     4224           773    50284   22711         773   \n",
       "\n",
       "       Courier Status currency  ship-city   ship-state ship-country   \n",
       "count          122103   121180     128942       128942       128942  \\\n",
       "unique              3        1       8955           69            1   \n",
       "top           Shipped      INR  BENGALURU  MAHARASHTRA           IN   \n",
       "freq           109487   121180      11217        22260       128942   \n",
       "\n",
       "                                       promotion-ids fulfilled-by Unnamed: 22  \n",
       "count                                          79822        39277       79925  \n",
       "unique                                          5787            1           1  \n",
       "top     IN Core Free Shipping 2015/04/08 23-48-5-108    Easy Ship       False  \n",
       "freq                                           46100        39277       79925  "
      ]
     },
     "execution_count": 11,
     "metadata": {},
     "output_type": "execute_result"
    }
   ],
   "source": [
    "df.describe(include=\"O\")"
   ]
  },
  {
   "cell_type": "code",
   "execution_count": 12,
   "id": "d94a04c3",
   "metadata": {},
   "outputs": [
    {
     "data": {
      "text/plain": [
       "<bound method NDFrame.describe of          index             Order ID      Date                        Status   \n",
       "0            0  405-8078784-5731545  04-30-22                     Cancelled  \\\n",
       "1            1  171-9198151-1101146  04-30-22  Shipped - Delivered to Buyer   \n",
       "2            2  404-0687676-7273146  04-30-22                       Shipped   \n",
       "3            3  403-9615377-8133951  04-30-22                     Cancelled   \n",
       "4            4  407-1069790-7240320  04-30-22                       Shipped   \n",
       "...        ...                  ...       ...                           ...   \n",
       "128970  128970  406-6001380-7673107  05-31-22                       Shipped   \n",
       "128971  128971  402-9551604-7544318  05-31-22                       Shipped   \n",
       "128972  128972  407-9547469-3152358  05-31-22                       Shipped   \n",
       "128973  128973  402-6184140-0545956  05-31-22                       Shipped   \n",
       "128974  128974  408-7436540-8728312  05-31-22                       Shipped   \n",
       "\n",
       "       Fulfilment Sales Channel  ship-service-level    Style              SKU   \n",
       "0        Merchant      Amazon.in           Standard   SET389   SET389-KR-NP-S  \\\n",
       "1        Merchant      Amazon.in           Standard  JNE3781  JNE3781-KR-XXXL   \n",
       "2          Amazon      Amazon.in          Expedited  JNE3371    JNE3371-KR-XL   \n",
       "3        Merchant      Amazon.in           Standard    J0341       J0341-DR-L   \n",
       "4          Amazon      Amazon.in          Expedited  JNE3671  JNE3671-TU-XXXL   \n",
       "...           ...            ...                ...      ...              ...   \n",
       "128970     Amazon      Amazon.in          Expedited  JNE3697    JNE3697-KR-XL   \n",
       "128971     Amazon      Amazon.in          Expedited   SET401   SET401-KR-NP-M   \n",
       "128972     Amazon      Amazon.in          Expedited    J0157     J0157-DR-XXL   \n",
       "128973     Amazon      Amazon.in          Expedited    J0012     J0012-SKD-XS   \n",
       "128974     Amazon      Amazon.in          Expedited    J0003      J0003-SET-S   \n",
       "\n",
       "             Category  ... currency   Amount    ship-city    ship-state   \n",
       "0                 Set  ...      INR   647.62       MUMBAI   MAHARASHTRA  \\\n",
       "1               kurta  ...      INR   406.00    BENGALURU     KARNATAKA   \n",
       "2               kurta  ...      INR   329.00  NAVI MUMBAI   MAHARASHTRA   \n",
       "3       Western Dress  ...      INR   753.33   PUDUCHERRY    PUDUCHERRY   \n",
       "4                 Top  ...      INR   574.00      CHENNAI    TAMIL NADU   \n",
       "...               ...  ...      ...      ...          ...           ...   \n",
       "128970          kurta  ...      INR   517.00    HYDERABAD     TELANGANA   \n",
       "128971            Set  ...      INR   999.00     GURUGRAM       HARYANA   \n",
       "128972  Western Dress  ...      INR   690.00    HYDERABAD     TELANGANA   \n",
       "128973            Set  ...      INR  1199.00        Halol       Gujarat   \n",
       "128974            Set  ...      INR   696.00       Raipur  CHHATTISGARH   \n",
       "\n",
       "       ship-postal-code  ship-country   \n",
       "0              400081.0            IN  \\\n",
       "1              560085.0            IN   \n",
       "2              410210.0            IN   \n",
       "3              605008.0            IN   \n",
       "4              600073.0            IN   \n",
       "...                 ...           ...   \n",
       "128970         500013.0            IN   \n",
       "128971         122004.0            IN   \n",
       "128972         500049.0            IN   \n",
       "128973         389350.0            IN   \n",
       "128974         492014.0            IN   \n",
       "\n",
       "                                            promotion-ids    B2B   \n",
       "0                                                     NaN  False  \\\n",
       "1       Amazon PLCC Free-Financing Universal Merchant ...  False   \n",
       "2            IN Core Free Shipping 2015/04/08 23-48-5-108   True   \n",
       "3                                                     NaN  False   \n",
       "4                                                     NaN  False   \n",
       "...                                                   ...    ...   \n",
       "128970                                                NaN  False   \n",
       "128971       IN Core Free Shipping 2015/04/08 23-48-5-108  False   \n",
       "128972                                                NaN  False   \n",
       "128973       IN Core Free Shipping 2015/04/08 23-48-5-108  False   \n",
       "128974       IN Core Free Shipping 2015/04/08 23-48-5-108  False   \n",
       "\n",
       "        fulfilled-by Unnamed: 22  \n",
       "0          Easy Ship         NaN  \n",
       "1          Easy Ship         NaN  \n",
       "2                NaN         NaN  \n",
       "3          Easy Ship         NaN  \n",
       "4                NaN         NaN  \n",
       "...              ...         ...  \n",
       "128970           NaN       False  \n",
       "128971           NaN       False  \n",
       "128972           NaN       False  \n",
       "128973           NaN       False  \n",
       "128974           NaN       False  \n",
       "\n",
       "[128975 rows x 24 columns]>"
      ]
     },
     "execution_count": 12,
     "metadata": {},
     "output_type": "execute_result"
    }
   ],
   "source": [
    "df.describe "
   ]
  },
  {
   "cell_type": "code",
   "execution_count": 13,
   "id": "6f64c5ce",
   "metadata": {},
   "outputs": [
    {
     "data": {
      "text/plain": [
       "(128975, 24)"
      ]
     },
     "execution_count": 13,
     "metadata": {},
     "output_type": "execute_result"
    }
   ],
   "source": [
    "df.shape"
   ]
  },
  {
   "cell_type": "code",
   "execution_count": 14,
   "id": "04730431",
   "metadata": {},
   "outputs": [
    {
     "data": {
      "text/html": [
       "<div>\n",
       "<style scoped>\n",
       "    .dataframe tbody tr th:only-of-type {\n",
       "        vertical-align: middle;\n",
       "    }\n",
       "\n",
       "    .dataframe tbody tr th {\n",
       "        vertical-align: top;\n",
       "    }\n",
       "\n",
       "    .dataframe thead th {\n",
       "        text-align: right;\n",
       "    }\n",
       "</style>\n",
       "<table border=\"1\" class=\"dataframe\">\n",
       "  <thead>\n",
       "    <tr style=\"text-align: right;\">\n",
       "      <th></th>\n",
       "      <th>index</th>\n",
       "      <th>Order ID</th>\n",
       "      <th>Date</th>\n",
       "      <th>Status</th>\n",
       "      <th>Fulfilment</th>\n",
       "      <th>Sales Channel</th>\n",
       "      <th>ship-service-level</th>\n",
       "      <th>Style</th>\n",
       "      <th>SKU</th>\n",
       "      <th>Category</th>\n",
       "      <th>...</th>\n",
       "      <th>currency</th>\n",
       "      <th>Amount</th>\n",
       "      <th>ship-city</th>\n",
       "      <th>ship-state</th>\n",
       "      <th>ship-postal-code</th>\n",
       "      <th>ship-country</th>\n",
       "      <th>promotion-ids</th>\n",
       "      <th>B2B</th>\n",
       "      <th>fulfilled-by</th>\n",
       "      <th>Unnamed: 22</th>\n",
       "    </tr>\n",
       "  </thead>\n",
       "  <tbody>\n",
       "    <tr>\n",
       "      <th>0</th>\n",
       "      <td>False</td>\n",
       "      <td>False</td>\n",
       "      <td>False</td>\n",
       "      <td>False</td>\n",
       "      <td>False</td>\n",
       "      <td>False</td>\n",
       "      <td>False</td>\n",
       "      <td>False</td>\n",
       "      <td>False</td>\n",
       "      <td>False</td>\n",
       "      <td>...</td>\n",
       "      <td>False</td>\n",
       "      <td>False</td>\n",
       "      <td>False</td>\n",
       "      <td>False</td>\n",
       "      <td>False</td>\n",
       "      <td>False</td>\n",
       "      <td>True</td>\n",
       "      <td>False</td>\n",
       "      <td>False</td>\n",
       "      <td>True</td>\n",
       "    </tr>\n",
       "    <tr>\n",
       "      <th>1</th>\n",
       "      <td>False</td>\n",
       "      <td>False</td>\n",
       "      <td>False</td>\n",
       "      <td>False</td>\n",
       "      <td>False</td>\n",
       "      <td>False</td>\n",
       "      <td>False</td>\n",
       "      <td>False</td>\n",
       "      <td>False</td>\n",
       "      <td>False</td>\n",
       "      <td>...</td>\n",
       "      <td>False</td>\n",
       "      <td>False</td>\n",
       "      <td>False</td>\n",
       "      <td>False</td>\n",
       "      <td>False</td>\n",
       "      <td>False</td>\n",
       "      <td>False</td>\n",
       "      <td>False</td>\n",
       "      <td>False</td>\n",
       "      <td>True</td>\n",
       "    </tr>\n",
       "    <tr>\n",
       "      <th>2</th>\n",
       "      <td>False</td>\n",
       "      <td>False</td>\n",
       "      <td>False</td>\n",
       "      <td>False</td>\n",
       "      <td>False</td>\n",
       "      <td>False</td>\n",
       "      <td>False</td>\n",
       "      <td>False</td>\n",
       "      <td>False</td>\n",
       "      <td>False</td>\n",
       "      <td>...</td>\n",
       "      <td>False</td>\n",
       "      <td>False</td>\n",
       "      <td>False</td>\n",
       "      <td>False</td>\n",
       "      <td>False</td>\n",
       "      <td>False</td>\n",
       "      <td>False</td>\n",
       "      <td>False</td>\n",
       "      <td>True</td>\n",
       "      <td>True</td>\n",
       "    </tr>\n",
       "    <tr>\n",
       "      <th>3</th>\n",
       "      <td>False</td>\n",
       "      <td>False</td>\n",
       "      <td>False</td>\n",
       "      <td>False</td>\n",
       "      <td>False</td>\n",
       "      <td>False</td>\n",
       "      <td>False</td>\n",
       "      <td>False</td>\n",
       "      <td>False</td>\n",
       "      <td>False</td>\n",
       "      <td>...</td>\n",
       "      <td>False</td>\n",
       "      <td>False</td>\n",
       "      <td>False</td>\n",
       "      <td>False</td>\n",
       "      <td>False</td>\n",
       "      <td>False</td>\n",
       "      <td>True</td>\n",
       "      <td>False</td>\n",
       "      <td>False</td>\n",
       "      <td>True</td>\n",
       "    </tr>\n",
       "    <tr>\n",
       "      <th>4</th>\n",
       "      <td>False</td>\n",
       "      <td>False</td>\n",
       "      <td>False</td>\n",
       "      <td>False</td>\n",
       "      <td>False</td>\n",
       "      <td>False</td>\n",
       "      <td>False</td>\n",
       "      <td>False</td>\n",
       "      <td>False</td>\n",
       "      <td>False</td>\n",
       "      <td>...</td>\n",
       "      <td>False</td>\n",
       "      <td>False</td>\n",
       "      <td>False</td>\n",
       "      <td>False</td>\n",
       "      <td>False</td>\n",
       "      <td>False</td>\n",
       "      <td>True</td>\n",
       "      <td>False</td>\n",
       "      <td>True</td>\n",
       "      <td>True</td>\n",
       "    </tr>\n",
       "    <tr>\n",
       "      <th>...</th>\n",
       "      <td>...</td>\n",
       "      <td>...</td>\n",
       "      <td>...</td>\n",
       "      <td>...</td>\n",
       "      <td>...</td>\n",
       "      <td>...</td>\n",
       "      <td>...</td>\n",
       "      <td>...</td>\n",
       "      <td>...</td>\n",
       "      <td>...</td>\n",
       "      <td>...</td>\n",
       "      <td>...</td>\n",
       "      <td>...</td>\n",
       "      <td>...</td>\n",
       "      <td>...</td>\n",
       "      <td>...</td>\n",
       "      <td>...</td>\n",
       "      <td>...</td>\n",
       "      <td>...</td>\n",
       "      <td>...</td>\n",
       "      <td>...</td>\n",
       "    </tr>\n",
       "    <tr>\n",
       "      <th>128970</th>\n",
       "      <td>False</td>\n",
       "      <td>False</td>\n",
       "      <td>False</td>\n",
       "      <td>False</td>\n",
       "      <td>False</td>\n",
       "      <td>False</td>\n",
       "      <td>False</td>\n",
       "      <td>False</td>\n",
       "      <td>False</td>\n",
       "      <td>False</td>\n",
       "      <td>...</td>\n",
       "      <td>False</td>\n",
       "      <td>False</td>\n",
       "      <td>False</td>\n",
       "      <td>False</td>\n",
       "      <td>False</td>\n",
       "      <td>False</td>\n",
       "      <td>True</td>\n",
       "      <td>False</td>\n",
       "      <td>True</td>\n",
       "      <td>False</td>\n",
       "    </tr>\n",
       "    <tr>\n",
       "      <th>128971</th>\n",
       "      <td>False</td>\n",
       "      <td>False</td>\n",
       "      <td>False</td>\n",
       "      <td>False</td>\n",
       "      <td>False</td>\n",
       "      <td>False</td>\n",
       "      <td>False</td>\n",
       "      <td>False</td>\n",
       "      <td>False</td>\n",
       "      <td>False</td>\n",
       "      <td>...</td>\n",
       "      <td>False</td>\n",
       "      <td>False</td>\n",
       "      <td>False</td>\n",
       "      <td>False</td>\n",
       "      <td>False</td>\n",
       "      <td>False</td>\n",
       "      <td>False</td>\n",
       "      <td>False</td>\n",
       "      <td>True</td>\n",
       "      <td>False</td>\n",
       "    </tr>\n",
       "    <tr>\n",
       "      <th>128972</th>\n",
       "      <td>False</td>\n",
       "      <td>False</td>\n",
       "      <td>False</td>\n",
       "      <td>False</td>\n",
       "      <td>False</td>\n",
       "      <td>False</td>\n",
       "      <td>False</td>\n",
       "      <td>False</td>\n",
       "      <td>False</td>\n",
       "      <td>False</td>\n",
       "      <td>...</td>\n",
       "      <td>False</td>\n",
       "      <td>False</td>\n",
       "      <td>False</td>\n",
       "      <td>False</td>\n",
       "      <td>False</td>\n",
       "      <td>False</td>\n",
       "      <td>True</td>\n",
       "      <td>False</td>\n",
       "      <td>True</td>\n",
       "      <td>False</td>\n",
       "    </tr>\n",
       "    <tr>\n",
       "      <th>128973</th>\n",
       "      <td>False</td>\n",
       "      <td>False</td>\n",
       "      <td>False</td>\n",
       "      <td>False</td>\n",
       "      <td>False</td>\n",
       "      <td>False</td>\n",
       "      <td>False</td>\n",
       "      <td>False</td>\n",
       "      <td>False</td>\n",
       "      <td>False</td>\n",
       "      <td>...</td>\n",
       "      <td>False</td>\n",
       "      <td>False</td>\n",
       "      <td>False</td>\n",
       "      <td>False</td>\n",
       "      <td>False</td>\n",
       "      <td>False</td>\n",
       "      <td>False</td>\n",
       "      <td>False</td>\n",
       "      <td>True</td>\n",
       "      <td>False</td>\n",
       "    </tr>\n",
       "    <tr>\n",
       "      <th>128974</th>\n",
       "      <td>False</td>\n",
       "      <td>False</td>\n",
       "      <td>False</td>\n",
       "      <td>False</td>\n",
       "      <td>False</td>\n",
       "      <td>False</td>\n",
       "      <td>False</td>\n",
       "      <td>False</td>\n",
       "      <td>False</td>\n",
       "      <td>False</td>\n",
       "      <td>...</td>\n",
       "      <td>False</td>\n",
       "      <td>False</td>\n",
       "      <td>False</td>\n",
       "      <td>False</td>\n",
       "      <td>False</td>\n",
       "      <td>False</td>\n",
       "      <td>False</td>\n",
       "      <td>False</td>\n",
       "      <td>True</td>\n",
       "      <td>False</td>\n",
       "    </tr>\n",
       "  </tbody>\n",
       "</table>\n",
       "<p>128975 rows × 24 columns</p>\n",
       "</div>"
      ],
      "text/plain": [
       "        index  Order ID   Date  Status  Fulfilment  Sales Channel    \n",
       "0       False     False  False   False       False           False  \\\n",
       "1       False     False  False   False       False           False   \n",
       "2       False     False  False   False       False           False   \n",
       "3       False     False  False   False       False           False   \n",
       "4       False     False  False   False       False           False   \n",
       "...       ...       ...    ...     ...         ...             ...   \n",
       "128970  False     False  False   False       False           False   \n",
       "128971  False     False  False   False       False           False   \n",
       "128972  False     False  False   False       False           False   \n",
       "128973  False     False  False   False       False           False   \n",
       "128974  False     False  False   False       False           False   \n",
       "\n",
       "        ship-service-level  Style    SKU  Category  ...  currency  Amount   \n",
       "0                    False  False  False     False  ...     False   False  \\\n",
       "1                    False  False  False     False  ...     False   False   \n",
       "2                    False  False  False     False  ...     False   False   \n",
       "3                    False  False  False     False  ...     False   False   \n",
       "4                    False  False  False     False  ...     False   False   \n",
       "...                    ...    ...    ...       ...  ...       ...     ...   \n",
       "128970               False  False  False     False  ...     False   False   \n",
       "128971               False  False  False     False  ...     False   False   \n",
       "128972               False  False  False     False  ...     False   False   \n",
       "128973               False  False  False     False  ...     False   False   \n",
       "128974               False  False  False     False  ...     False   False   \n",
       "\n",
       "        ship-city  ship-state  ship-postal-code  ship-country  promotion-ids   \n",
       "0           False       False             False         False           True  \\\n",
       "1           False       False             False         False          False   \n",
       "2           False       False             False         False          False   \n",
       "3           False       False             False         False           True   \n",
       "4           False       False             False         False           True   \n",
       "...           ...         ...               ...           ...            ...   \n",
       "128970      False       False             False         False           True   \n",
       "128971      False       False             False         False          False   \n",
       "128972      False       False             False         False           True   \n",
       "128973      False       False             False         False          False   \n",
       "128974      False       False             False         False          False   \n",
       "\n",
       "          B2B  fulfilled-by  Unnamed: 22  \n",
       "0       False         False         True  \n",
       "1       False         False         True  \n",
       "2       False          True         True  \n",
       "3       False         False         True  \n",
       "4       False          True         True  \n",
       "...       ...           ...          ...  \n",
       "128970  False          True        False  \n",
       "128971  False          True        False  \n",
       "128972  False          True        False  \n",
       "128973  False          True        False  \n",
       "128974  False          True        False  \n",
       "\n",
       "[128975 rows x 24 columns]"
      ]
     },
     "execution_count": 14,
     "metadata": {},
     "output_type": "execute_result"
    }
   ],
   "source": [
    "df.isnull()"
   ]
  },
  {
   "cell_type": "code",
   "execution_count": 15,
   "id": "f6bf22ff",
   "metadata": {},
   "outputs": [
    {
     "data": {
      "text/plain": [
       "index                     0\n",
       "Order ID                  0\n",
       "Date                      0\n",
       "Status                    0\n",
       "Fulfilment                0\n",
       "Sales Channel             0\n",
       "ship-service-level        0\n",
       "Style                     0\n",
       "SKU                       0\n",
       "Category                  0\n",
       "Size                      0\n",
       "ASIN                      0\n",
       "Courier Status         6872\n",
       "Qty                       0\n",
       "currency               7795\n",
       "Amount                 7795\n",
       "ship-city                33\n",
       "ship-state               33\n",
       "ship-postal-code         33\n",
       "ship-country             33\n",
       "promotion-ids         49153\n",
       "B2B                       0\n",
       "fulfilled-by          89698\n",
       "Unnamed: 22           49050\n",
       "dtype: int64"
      ]
     },
     "execution_count": 15,
     "metadata": {},
     "output_type": "execute_result"
    }
   ],
   "source": [
    "df.isnull().sum()"
   ]
  },
  {
   "cell_type": "code",
   "execution_count": 45,
   "id": "0a05cd46",
   "metadata": {},
   "outputs": [],
   "source": [
    "df.drop(columns = [\"index\", \"Order ID\",\"Unnamed: 22\", \"fulfilled-by\"],inplace = True,axis=1)"
   ]
  },
  {
   "cell_type": "code",
   "execution_count": 46,
   "id": "ed5339b4",
   "metadata": {
    "scrolled": true
   },
   "outputs": [
    {
     "data": {
      "text/html": [
       "<div>\n",
       "<style scoped>\n",
       "    .dataframe tbody tr th:only-of-type {\n",
       "        vertical-align: middle;\n",
       "    }\n",
       "\n",
       "    .dataframe tbody tr th {\n",
       "        vertical-align: top;\n",
       "    }\n",
       "\n",
       "    .dataframe thead th {\n",
       "        text-align: right;\n",
       "    }\n",
       "</style>\n",
       "<table border=\"1\" class=\"dataframe\">\n",
       "  <thead>\n",
       "    <tr style=\"text-align: right;\">\n",
       "      <th></th>\n",
       "      <th>Date</th>\n",
       "      <th>Status</th>\n",
       "      <th>Fulfilment</th>\n",
       "      <th>Sales Channel</th>\n",
       "      <th>ship-service-level</th>\n",
       "      <th>Style</th>\n",
       "      <th>SKU</th>\n",
       "      <th>Category</th>\n",
       "      <th>Size</th>\n",
       "      <th>ASIN</th>\n",
       "      <th>Courier Status</th>\n",
       "      <th>Qty</th>\n",
       "      <th>currency</th>\n",
       "      <th>Amount</th>\n",
       "      <th>ship-city</th>\n",
       "      <th>ship-state</th>\n",
       "      <th>ship-postal-code</th>\n",
       "      <th>ship-country</th>\n",
       "      <th>promotion-ids</th>\n",
       "      <th>B2B</th>\n",
       "    </tr>\n",
       "  </thead>\n",
       "  <tbody>\n",
       "    <tr>\n",
       "      <th>0</th>\n",
       "      <td>04-30-22</td>\n",
       "      <td>Cancelled</td>\n",
       "      <td>Merchant</td>\n",
       "      <td>Amazon.in</td>\n",
       "      <td>Standard</td>\n",
       "      <td>SET389</td>\n",
       "      <td>SET389-KR-NP-S</td>\n",
       "      <td>Set</td>\n",
       "      <td>S</td>\n",
       "      <td>B09KXVBD7Z</td>\n",
       "      <td>NaN</td>\n",
       "      <td>0</td>\n",
       "      <td>INR</td>\n",
       "      <td>647.62</td>\n",
       "      <td>MUMBAI</td>\n",
       "      <td>MAHARASHTRA</td>\n",
       "      <td>400081.0</td>\n",
       "      <td>IN</td>\n",
       "      <td>NaN</td>\n",
       "      <td>False</td>\n",
       "    </tr>\n",
       "    <tr>\n",
       "      <th>1</th>\n",
       "      <td>04-30-22</td>\n",
       "      <td>Shipped - Delivered to Buyer</td>\n",
       "      <td>Merchant</td>\n",
       "      <td>Amazon.in</td>\n",
       "      <td>Standard</td>\n",
       "      <td>JNE3781</td>\n",
       "      <td>JNE3781-KR-XXXL</td>\n",
       "      <td>kurta</td>\n",
       "      <td>3XL</td>\n",
       "      <td>B09K3WFS32</td>\n",
       "      <td>Shipped</td>\n",
       "      <td>1</td>\n",
       "      <td>INR</td>\n",
       "      <td>406.00</td>\n",
       "      <td>BENGALURU</td>\n",
       "      <td>KARNATAKA</td>\n",
       "      <td>560085.0</td>\n",
       "      <td>IN</td>\n",
       "      <td>Amazon PLCC Free-Financing Universal Merchant ...</td>\n",
       "      <td>False</td>\n",
       "    </tr>\n",
       "    <tr>\n",
       "      <th>2</th>\n",
       "      <td>04-30-22</td>\n",
       "      <td>Shipped</td>\n",
       "      <td>Amazon</td>\n",
       "      <td>Amazon.in</td>\n",
       "      <td>Expedited</td>\n",
       "      <td>JNE3371</td>\n",
       "      <td>JNE3371-KR-XL</td>\n",
       "      <td>kurta</td>\n",
       "      <td>XL</td>\n",
       "      <td>B07WV4JV4D</td>\n",
       "      <td>Shipped</td>\n",
       "      <td>1</td>\n",
       "      <td>INR</td>\n",
       "      <td>329.00</td>\n",
       "      <td>NAVI MUMBAI</td>\n",
       "      <td>MAHARASHTRA</td>\n",
       "      <td>410210.0</td>\n",
       "      <td>IN</td>\n",
       "      <td>IN Core Free Shipping 2015/04/08 23-48-5-108</td>\n",
       "      <td>True</td>\n",
       "    </tr>\n",
       "    <tr>\n",
       "      <th>3</th>\n",
       "      <td>04-30-22</td>\n",
       "      <td>Cancelled</td>\n",
       "      <td>Merchant</td>\n",
       "      <td>Amazon.in</td>\n",
       "      <td>Standard</td>\n",
       "      <td>J0341</td>\n",
       "      <td>J0341-DR-L</td>\n",
       "      <td>Western Dress</td>\n",
       "      <td>L</td>\n",
       "      <td>B099NRCT7B</td>\n",
       "      <td>NaN</td>\n",
       "      <td>0</td>\n",
       "      <td>INR</td>\n",
       "      <td>753.33</td>\n",
       "      <td>PUDUCHERRY</td>\n",
       "      <td>PUDUCHERRY</td>\n",
       "      <td>605008.0</td>\n",
       "      <td>IN</td>\n",
       "      <td>NaN</td>\n",
       "      <td>False</td>\n",
       "    </tr>\n",
       "    <tr>\n",
       "      <th>4</th>\n",
       "      <td>04-30-22</td>\n",
       "      <td>Shipped</td>\n",
       "      <td>Amazon</td>\n",
       "      <td>Amazon.in</td>\n",
       "      <td>Expedited</td>\n",
       "      <td>JNE3671</td>\n",
       "      <td>JNE3671-TU-XXXL</td>\n",
       "      <td>Top</td>\n",
       "      <td>3XL</td>\n",
       "      <td>B098714BZP</td>\n",
       "      <td>Shipped</td>\n",
       "      <td>1</td>\n",
       "      <td>INR</td>\n",
       "      <td>574.00</td>\n",
       "      <td>CHENNAI</td>\n",
       "      <td>TAMIL NADU</td>\n",
       "      <td>600073.0</td>\n",
       "      <td>IN</td>\n",
       "      <td>NaN</td>\n",
       "      <td>False</td>\n",
       "    </tr>\n",
       "  </tbody>\n",
       "</table>\n",
       "</div>"
      ],
      "text/plain": [
       "       Date                        Status Fulfilment Sales Channel    \n",
       "0  04-30-22                     Cancelled   Merchant      Amazon.in  \\\n",
       "1  04-30-22  Shipped - Delivered to Buyer   Merchant      Amazon.in   \n",
       "2  04-30-22                       Shipped     Amazon      Amazon.in   \n",
       "3  04-30-22                     Cancelled   Merchant      Amazon.in   \n",
       "4  04-30-22                       Shipped     Amazon      Amazon.in   \n",
       "\n",
       "  ship-service-level    Style              SKU       Category Size   \n",
       "0           Standard   SET389   SET389-KR-NP-S            Set    S  \\\n",
       "1           Standard  JNE3781  JNE3781-KR-XXXL          kurta  3XL   \n",
       "2          Expedited  JNE3371    JNE3371-KR-XL          kurta   XL   \n",
       "3           Standard    J0341       J0341-DR-L  Western Dress    L   \n",
       "4          Expedited  JNE3671  JNE3671-TU-XXXL            Top  3XL   \n",
       "\n",
       "         ASIN Courier Status  Qty currency  Amount    ship-city   ship-state   \n",
       "0  B09KXVBD7Z            NaN    0      INR  647.62       MUMBAI  MAHARASHTRA  \\\n",
       "1  B09K3WFS32        Shipped    1      INR  406.00    BENGALURU    KARNATAKA   \n",
       "2  B07WV4JV4D        Shipped    1      INR  329.00  NAVI MUMBAI  MAHARASHTRA   \n",
       "3  B099NRCT7B            NaN    0      INR  753.33   PUDUCHERRY   PUDUCHERRY   \n",
       "4  B098714BZP        Shipped    1      INR  574.00      CHENNAI   TAMIL NADU   \n",
       "\n",
       "   ship-postal-code ship-country   \n",
       "0          400081.0           IN  \\\n",
       "1          560085.0           IN   \n",
       "2          410210.0           IN   \n",
       "3          605008.0           IN   \n",
       "4          600073.0           IN   \n",
       "\n",
       "                                       promotion-ids    B2B  \n",
       "0                                                NaN  False  \n",
       "1  Amazon PLCC Free-Financing Universal Merchant ...  False  \n",
       "2       IN Core Free Shipping 2015/04/08 23-48-5-108   True  \n",
       "3                                                NaN  False  \n",
       "4                                                NaN  False  "
      ]
     },
     "execution_count": 46,
     "metadata": {},
     "output_type": "execute_result"
    }
   ],
   "source": [
    "df.head()"
   ]
  },
  {
   "cell_type": "code",
   "execution_count": 49,
   "id": "9addb33b",
   "metadata": {},
   "outputs": [],
   "source": [
    "df.drop(columns = [\"promotion-ids\"],inplace = True,axis=1)"
   ]
  },
  {
   "cell_type": "code",
   "execution_count": 51,
   "id": "44d73326",
   "metadata": {},
   "outputs": [
    {
     "data": {
      "text/html": [
       "<div>\n",
       "<style scoped>\n",
       "    .dataframe tbody tr th:only-of-type {\n",
       "        vertical-align: middle;\n",
       "    }\n",
       "\n",
       "    .dataframe tbody tr th {\n",
       "        vertical-align: top;\n",
       "    }\n",
       "\n",
       "    .dataframe thead th {\n",
       "        text-align: right;\n",
       "    }\n",
       "</style>\n",
       "<table border=\"1\" class=\"dataframe\">\n",
       "  <thead>\n",
       "    <tr style=\"text-align: right;\">\n",
       "      <th></th>\n",
       "      <th>Date</th>\n",
       "      <th>Status</th>\n",
       "      <th>Fulfilment</th>\n",
       "      <th>Sales Channel</th>\n",
       "      <th>ship-service-level</th>\n",
       "      <th>Style</th>\n",
       "      <th>SKU</th>\n",
       "      <th>Category</th>\n",
       "      <th>Size</th>\n",
       "      <th>ASIN</th>\n",
       "      <th>Courier Status</th>\n",
       "      <th>currency</th>\n",
       "      <th>ship-city</th>\n",
       "      <th>ship-state</th>\n",
       "      <th>ship-country</th>\n",
       "    </tr>\n",
       "  </thead>\n",
       "  <tbody>\n",
       "    <tr>\n",
       "      <th>count</th>\n",
       "      <td>128975</td>\n",
       "      <td>128975</td>\n",
       "      <td>128975</td>\n",
       "      <td>128975</td>\n",
       "      <td>128975</td>\n",
       "      <td>128975</td>\n",
       "      <td>128975</td>\n",
       "      <td>128975</td>\n",
       "      <td>128975</td>\n",
       "      <td>128975</td>\n",
       "      <td>122103</td>\n",
       "      <td>121180</td>\n",
       "      <td>128942</td>\n",
       "      <td>128942</td>\n",
       "      <td>128942</td>\n",
       "    </tr>\n",
       "    <tr>\n",
       "      <th>unique</th>\n",
       "      <td>91</td>\n",
       "      <td>13</td>\n",
       "      <td>2</td>\n",
       "      <td>2</td>\n",
       "      <td>2</td>\n",
       "      <td>1377</td>\n",
       "      <td>7195</td>\n",
       "      <td>9</td>\n",
       "      <td>11</td>\n",
       "      <td>7190</td>\n",
       "      <td>3</td>\n",
       "      <td>1</td>\n",
       "      <td>8955</td>\n",
       "      <td>69</td>\n",
       "      <td>1</td>\n",
       "    </tr>\n",
       "    <tr>\n",
       "      <th>top</th>\n",
       "      <td>05-03-22</td>\n",
       "      <td>Shipped</td>\n",
       "      <td>Amazon</td>\n",
       "      <td>Amazon.in</td>\n",
       "      <td>Expedited</td>\n",
       "      <td>JNE3797</td>\n",
       "      <td>JNE3797-KR-L</td>\n",
       "      <td>Set</td>\n",
       "      <td>M</td>\n",
       "      <td>B09SDXFFQ1</td>\n",
       "      <td>Shipped</td>\n",
       "      <td>INR</td>\n",
       "      <td>BENGALURU</td>\n",
       "      <td>MAHARASHTRA</td>\n",
       "      <td>IN</td>\n",
       "    </tr>\n",
       "    <tr>\n",
       "      <th>freq</th>\n",
       "      <td>2085</td>\n",
       "      <td>77804</td>\n",
       "      <td>89698</td>\n",
       "      <td>128851</td>\n",
       "      <td>88615</td>\n",
       "      <td>4224</td>\n",
       "      <td>773</td>\n",
       "      <td>50284</td>\n",
       "      <td>22711</td>\n",
       "      <td>773</td>\n",
       "      <td>109487</td>\n",
       "      <td>121180</td>\n",
       "      <td>11217</td>\n",
       "      <td>22260</td>\n",
       "      <td>128942</td>\n",
       "    </tr>\n",
       "  </tbody>\n",
       "</table>\n",
       "</div>"
      ],
      "text/plain": [
       "            Date   Status Fulfilment Sales Channel  ship-service-level   \n",
       "count     128975   128975     128975         128975             128975  \\\n",
       "unique        91       13          2              2                  2   \n",
       "top     05-03-22  Shipped     Amazon      Amazon.in          Expedited   \n",
       "freq        2085    77804      89698         128851              88615   \n",
       "\n",
       "          Style           SKU Category    Size        ASIN Courier Status   \n",
       "count    128975        128975   128975  128975      128975         122103  \\\n",
       "unique     1377          7195        9      11        7190              3   \n",
       "top     JNE3797  JNE3797-KR-L      Set       M  B09SDXFFQ1        Shipped   \n",
       "freq       4224           773    50284   22711         773         109487   \n",
       "\n",
       "       currency  ship-city   ship-state ship-country  \n",
       "count    121180     128942       128942       128942  \n",
       "unique        1       8955           69            1  \n",
       "top         INR  BENGALURU  MAHARASHTRA           IN  \n",
       "freq     121180      11217        22260       128942  "
      ]
     },
     "execution_count": 51,
     "metadata": {},
     "output_type": "execute_result"
    }
   ],
   "source": [
    "df.describe(include=\"O\")"
   ]
  },
  {
   "cell_type": "code",
   "execution_count": 16,
   "id": "06e24e22",
   "metadata": {
    "id": "06e24e22"
   },
   "outputs": [],
   "source": [
    "## Show the columns"
   ]
  },
  {
   "cell_type": "code",
   "execution_count": 50,
   "id": "1bd15451",
   "metadata": {
    "id": "1bd15451"
   },
   "outputs": [
    {
     "data": {
      "text/plain": [
       "Index(['Date', 'Status', 'Fulfilment', 'Sales Channel ', 'ship-service-level',\n",
       "       'Style', 'SKU', 'Category', 'Size', 'ASIN', 'Courier Status', 'Qty',\n",
       "       'currency', 'Amount', 'ship-city', 'ship-state', 'ship-postal-code',\n",
       "       'ship-country', 'B2B'],\n",
       "      dtype='object')"
      ]
     },
     "execution_count": 50,
     "metadata": {},
     "output_type": "execute_result"
    }
   ],
   "source": [
    "df.columns"
   ]
  },
  {
   "cell_type": "code",
   "execution_count": 18,
   "id": "78c07f64",
   "metadata": {
    "id": "78c07f64"
   },
   "outputs": [],
   "source": [
    "## Show the description summary for numerical and categorical values."
   ]
  },
  {
   "cell_type": "code",
   "execution_count": null,
   "id": "e43f5fcb",
   "metadata": {
    "id": "e43f5fcb"
   },
   "outputs": [],
   "source": []
  },
  {
   "cell_type": "markdown",
   "id": "2ed8ea4a",
   "metadata": {
    "id": "2ed8ea4a"
   },
   "source": [
    "# Exploratory Data Analysis"
   ]
  },
  {
   "cell_type": "code",
   "execution_count": null,
   "id": "7e22edae",
   "metadata": {
    "id": "7e22edae"
   },
   "outputs": [],
   "source": []
  },
  {
   "cell_type": "code",
   "execution_count": null,
   "id": "0bfbbeb5",
   "metadata": {
    "id": "0bfbbeb5"
   },
   "outputs": [],
   "source": []
  },
  {
   "cell_type": "markdown",
   "id": "5913d4c3",
   "metadata": {
    "id": "5913d4c3"
   },
   "source": [
    "## Do Numerical Analysis of Columns"
   ]
  },
  {
   "cell_type": "code",
   "execution_count": 19,
   "id": "2ed2adb4",
   "metadata": {
    "id": "2ed2adb4"
   },
   "outputs": [],
   "source": [
    "#  Numerical column analysis \n",
    "\n",
    "#  Maximum and mimimum value mean, meadian or std deviation or variance\n",
    "\n",
    "#  You can learn about their distribution.\n",
    "# - Histogram.\n",
    "#  While a histogram is made up of bars that touch each other,it shows counts of values in each range.\n",
    "\n",
    "# - Distribution plot. \n",
    "#  While a density plot shows the proportion of values in each range, a density plot is a smooth curve \n",
    "# that shows the distribution of the data in a more continuous way\n",
    "\n",
    "# Asymmetry \n",
    "# Skewness is a statistical measure of the asymmetry of a probability distribution. \n",
    "# It characterizes the extent to which the distribution of a set of values deviates from a normal distribution.\n",
    "# If the skewness is between -0.5 & 0.5, the data are nearly symmetrical.\n",
    "# If the skewness is between -1 & -0.5 (negative skewed) or between 0.5 & 1(positive skewed), the data are slightly skewed.\n",
    "# If the skewness is lower than -1 (negative skewed) or greater than 1 (positive skewed), the data are extremely skewed.\n",
    "\n",
    "# Quantile Analysis\n",
    "# A quantile defines a particular part of a data set, \n",
    "# i.e. a quantile determines how many values in a distribution are above or below a certain limit.\n",
    "\n",
    "# Analysis of extreme value\n",
    "# - Box Plot\n",
    "# - Violin plot"
   ]
  },
  {
   "cell_type": "code",
   "execution_count": null,
   "id": "ce11a65a",
   "metadata": {
    "id": "ce11a65a"
   },
   "outputs": [],
   "source": []
  },
  {
   "cell_type": "code",
   "execution_count": 20,
   "id": "06ef5452",
   "metadata": {
    "id": "06ef5452"
   },
   "outputs": [],
   "source": [
    "## Conclude and write down your observation."
   ]
  },
  {
   "cell_type": "code",
   "execution_count": null,
   "id": "d905003a",
   "metadata": {
    "id": "d905003a"
   },
   "outputs": [],
   "source": []
  },
  {
   "cell_type": "markdown",
   "id": "4a763138",
   "metadata": {
    "id": "4a763138"
   },
   "source": [
    "## Do Categortical  Analysis of Columns"
   ]
  },
  {
   "cell_type": "code",
   "execution_count": 21,
   "id": "e16b4f94",
   "metadata": {
    "id": "e16b4f94"
   },
   "outputs": [],
   "source": [
    "#  Categorical column analysis \n",
    "#  You can learn about their count values and their percentage.\n",
    "# value_counts allows you to find the number of each category in the that column.\n",
    "#  Count plot.\n",
    "\n",
    "# find no. of unique values and what are those unique values.\n",
    "\n",
    "#  Word cloud to create most frequently occuring words."
   ]
  },
  {
   "cell_type": "code",
   "execution_count": null,
   "id": "2a455bec",
   "metadata": {
    "id": "2a455bec"
   },
   "outputs": [],
   "source": []
  },
  {
   "cell_type": "code",
   "execution_count": 22,
   "id": "931eb027",
   "metadata": {
    "id": "931eb027"
   },
   "outputs": [],
   "source": [
    "## Conclude and write down your observation."
   ]
  },
  {
   "cell_type": "code",
   "execution_count": null,
   "id": "18b92741",
   "metadata": {
    "id": "18b92741"
   },
   "outputs": [],
   "source": []
  },
  {
   "cell_type": "code",
   "execution_count": null,
   "id": "00c8557c",
   "metadata": {
    "id": "00c8557c"
   },
   "outputs": [],
   "source": []
  },
  {
   "cell_type": "markdown",
   "id": "ff7b0d89",
   "metadata": {
    "id": "ff7b0d89"
   },
   "source": [
    "## Combine Numerical and categorical columns for analysis"
   ]
  },
  {
   "cell_type": "code",
   "execution_count": null,
   "id": "fac30b3e",
   "metadata": {
    "id": "fac30b3e"
   },
   "outputs": [],
   "source": []
  },
  {
   "cell_type": "code",
   "execution_count": null,
   "id": "11763ca8",
   "metadata": {
    "id": "11763ca8"
   },
   "outputs": [],
   "source": []
  },
  {
   "cell_type": "markdown",
   "id": "96174544",
   "metadata": {
    "id": "96174544"
   },
   "source": [
    "## Add your own Questions"
   ]
  },
  {
   "cell_type": "code",
   "execution_count": null,
   "id": "44b0bc18",
   "metadata": {
    "id": "44b0bc18"
   },
   "outputs": [],
   "source": []
  },
  {
   "cell_type": "code",
   "execution_count": null,
   "id": "4048253a",
   "metadata": {
    "id": "4048253a"
   },
   "outputs": [],
   "source": []
  },
  {
   "cell_type": "markdown",
   "id": "4986e729",
   "metadata": {
    "id": "4986e729"
   },
   "source": [
    "# Data Cleaning"
   ]
  },
  {
   "cell_type": "markdown",
   "id": "9b661de4",
   "metadata": {
    "id": "9b661de4"
   },
   "source": [
    "## 1. Handling Duplicate data"
   ]
  },
  {
   "cell_type": "code",
   "execution_count": 23,
   "id": "91fd3c27",
   "metadata": {
    "id": "91fd3c27"
   },
   "outputs": [],
   "source": [
    "## Check shape of original data"
   ]
  },
  {
   "cell_type": "code",
   "execution_count": null,
   "id": "5a60e696",
   "metadata": {
    "id": "5a60e696"
   },
   "outputs": [],
   "source": []
  },
  {
   "cell_type": "code",
   "execution_count": 24,
   "id": "2fefe200",
   "metadata": {
    "id": "2fefe200"
   },
   "outputs": [],
   "source": [
    "## Check shape after applying drop duplicates."
   ]
  },
  {
   "cell_type": "code",
   "execution_count": null,
   "id": "77c2f822",
   "metadata": {
    "id": "77c2f822"
   },
   "outputs": [],
   "source": []
  },
  {
   "cell_type": "code",
   "execution_count": 25,
   "id": "41605ed8",
   "metadata": {
    "id": "41605ed8"
   },
   "outputs": [],
   "source": [
    "## Drop duplicate values and reset your index columns."
   ]
  },
  {
   "cell_type": "code",
   "execution_count": null,
   "id": "393bfc6b",
   "metadata": {
    "id": "393bfc6b"
   },
   "outputs": [],
   "source": []
  },
  {
   "cell_type": "code",
   "execution_count": 26,
   "id": "e284ddad",
   "metadata": {
    "id": "e284ddad"
   },
   "outputs": [],
   "source": [
    "## Conslusion or what you have done for achieving this."
   ]
  },
  {
   "cell_type": "code",
   "execution_count": null,
   "id": "b914613c",
   "metadata": {
    "id": "b914613c"
   },
   "outputs": [],
   "source": []
  },
  {
   "cell_type": "markdown",
   "id": "1559de2e",
   "metadata": {
    "id": "1559de2e"
   },
   "source": [
    "## 2.  Handling Missing Values"
   ]
  },
  {
   "cell_type": "code",
   "execution_count": 27,
   "id": "9fce3bbb",
   "metadata": {
    "id": "9fce3bbb"
   },
   "outputs": [],
   "source": [
    "## Apply isnull() function and find the sum of missing values in all columns."
   ]
  },
  {
   "cell_type": "code",
   "execution_count": null,
   "id": "83fa71f8",
   "metadata": {
    "id": "83fa71f8"
   },
   "outputs": [],
   "source": []
  },
  {
   "cell_type": "code",
   "execution_count": 28,
   "id": "6d01bfaf",
   "metadata": {
    "id": "6d01bfaf"
   },
   "outputs": [],
   "source": [
    "## Find missing value in % form."
   ]
  },
  {
   "cell_type": "code",
   "execution_count": null,
   "id": "7ea2505c",
   "metadata": {
    "id": "7ea2505c"
   },
   "outputs": [],
   "source": []
  },
  {
   "cell_type": "code",
   "execution_count": 29,
   "id": "184c4be3",
   "metadata": {
    "id": "184c4be3"
   },
   "outputs": [],
   "source": [
    "## Conclude your finding on missing values."
   ]
  },
  {
   "cell_type": "code",
   "execution_count": null,
   "id": "cc44d9f0",
   "metadata": {
    "id": "cc44d9f0"
   },
   "outputs": [],
   "source": []
  },
  {
   "cell_type": "code",
   "execution_count": 30,
   "id": "f645ea2d",
   "metadata": {
    "id": "f645ea2d"
   },
   "outputs": [],
   "source": [
    "## Drop the columns based on above analysis."
   ]
  },
  {
   "cell_type": "code",
   "execution_count": null,
   "id": "eb13c4f9",
   "metadata": {
    "id": "eb13c4f9"
   },
   "outputs": [],
   "source": []
  },
  {
   "cell_type": "code",
   "execution_count": 31,
   "id": "bb0d4071",
   "metadata": {
    "id": "bb0d4071"
   },
   "outputs": [],
   "source": [
    "## Conslusion or what you have done for achieving this."
   ]
  },
  {
   "cell_type": "code",
   "execution_count": null,
   "id": "16c8d0cf",
   "metadata": {
    "id": "16c8d0cf"
   },
   "outputs": [],
   "source": []
  },
  {
   "cell_type": "markdown",
   "id": "bd3d15d6",
   "metadata": {
    "id": "bd3d15d6"
   },
   "source": [
    "## 3. Handling Outliers "
   ]
  },
  {
   "cell_type": "code",
   "execution_count": 32,
   "id": "1d7b253e",
   "metadata": {
    "id": "1d7b253e"
   },
   "outputs": [],
   "source": [
    "## Apply below techniques on numerical columns.\n",
    "\n",
    "# Do box plot and violin plot to identify outliers.\n",
    "\n",
    "# Q1 --> 25%ile of data \n",
    "#     first line of the box plot\n",
    "# Q2 --> median or 50%ile of data\n",
    "#     second line or middle line of the box.\n",
    "# Q3 --> 75%ile of data   \n",
    "#     third line or the last of the box.\n",
    "\n",
    "# IQR --> Interquartile range.\n",
    "#      distance/value between Q1 or 25%ile and Q3 or 75%ile\n",
    "#     IQR = Q3-Q1\n",
    "    \n",
    "# minimum whisker --> Q1 - 1.5*IQR\n",
    "# maximum whisker --> Q3 + 1.5*IQR\n",
    "\n",
    "# Any value below mimimum whisker and above maximum whisker are termed as outlier."
   ]
  },
  {
   "cell_type": "code",
   "execution_count": null,
   "id": "6dd5fceb",
   "metadata": {
    "id": "6dd5fceb"
   },
   "outputs": [],
   "source": []
  },
  {
   "cell_type": "code",
   "execution_count": null,
   "id": "48b35e7d",
   "metadata": {
    "id": "48b35e7d"
   },
   "outputs": [],
   "source": []
  },
  {
   "cell_type": "code",
   "execution_count": 33,
   "id": "761f4454",
   "metadata": {
    "id": "761f4454"
   },
   "outputs": [],
   "source": [
    "## Based on your anlysis either drop extreme values or substitute them with more acceptable value."
   ]
  },
  {
   "cell_type": "code",
   "execution_count": null,
   "id": "a16fd58b",
   "metadata": {
    "id": "a16fd58b"
   },
   "outputs": [],
   "source": []
  },
  {
   "cell_type": "code",
   "execution_count": 34,
   "id": "57244e92",
   "metadata": {
    "id": "57244e92"
   },
   "outputs": [],
   "source": [
    "## Conslusion or what you have done for achieving this."
   ]
  },
  {
   "cell_type": "code",
   "execution_count": null,
   "id": "8891b12e",
   "metadata": {
    "id": "8891b12e"
   },
   "outputs": [],
   "source": []
  },
  {
   "cell_type": "markdown",
   "id": "19e12467",
   "metadata": {
    "id": "19e12467"
   },
   "source": [
    "## 4. Handling Categoirical Values"
   ]
  },
  {
   "cell_type": "code",
   "execution_count": 35,
   "id": "d900d73e",
   "metadata": {
    "id": "d900d73e"
   },
   "outputs": [],
   "source": [
    "## Idea is be to convert these string like values to number.\n",
    "## Collect all Categorical column"
   ]
  },
  {
   "cell_type": "code",
   "execution_count": null,
   "id": "8515d1cd",
   "metadata": {
    "id": "8515d1cd"
   },
   "outputs": [],
   "source": []
  },
  {
   "cell_type": "code",
   "execution_count": 36,
   "id": "59ff4198",
   "metadata": {
    "id": "59ff4198"
   },
   "outputs": [],
   "source": [
    "# Ordinal --> Something that shows order.\n",
    "# e.g. \n",
    "# level of education.\n",
    "# 10th,12th,Diploma,Graduation, Masters,Phd\n",
    "# 1,2,3,4,5,6\n",
    "\n",
    "# shopping for clothes t-shirts,\n",
    "# XS,S,M,L,XL,XXL\n",
    "# 1,2,3,4,5,6\n",
    "\n",
    "\n",
    "# -- category encoding\n",
    "# -- mapping of values to number in some order."
   ]
  },
  {
   "cell_type": "code",
   "execution_count": null,
   "id": "cf6ac767",
   "metadata": {
    "id": "cf6ac767"
   },
   "outputs": [],
   "source": []
  },
  {
   "cell_type": "code",
   "execution_count": 37,
   "id": "1d7af4e0",
   "metadata": {
    "id": "1d7af4e0"
   },
   "outputs": [],
   "source": [
    "# Nominal --> Something which doesn't show order.\n",
    "# e.g.\n",
    "# cities in India\n",
    "# delhi,mumbai,kolkatta,pune,chennai,hyderabad,bangalore\n",
    "\n",
    "# subject of education\n",
    "# physics,mathematics,chemistry,commerce,biology,english,hindi,sanskrit\n",
    "\n",
    "# gender of human\n",
    "# male, female\n",
    "\n",
    "\n",
    "# sex        sex_male , sex_female\n",
    "# male          1     ,   0\n",
    "# female        0     ,   1 \n",
    "# male          1     ,   0\n",
    "# male          1     ,   0\n",
    "\n",
    "\n",
    "# -- One-hot encoding.\n",
    "# by which we convert the individual values in the column to a new column\n",
    "# by making available value for row as 1 and other as 0.\n",
    "\n",
    "# different ways of applying one-hot encoding:\n",
    "#     1. to apply using pandas pd.get_dummies\n",
    "#     2. to is sklearn (scientic package for mode building).\n",
    "    \n",
    "# there is a limitation of one-hot encoding.\n",
    "# Suppose there is a data which 100000 row and has a column city which 1000 unique city.\n",
    "\n",
    "# no. of unique values in a categorical coilumn is reffered to as cardinality.\n",
    "# if a caloumn has 5-7 uniques values they are reffred to as medium to low cardinality.\n",
    "# if this no. increase to more than 10 then it becomes high cardinarility.\n",
    "\n",
    "# Cardinality of nominal values values are high.\n",
    "# there is a limitation of one-hot encoding.\n",
    "# Suppose there is a data which 100000 row and has a column city which 1000 unique city.\n",
    "\n",
    "# -- frequency encoding\n",
    "# city     city\n",
    "# pune     0.14 \n",
    "# ...\n",
    "# ...\n",
    "# delhi    0.26\n",
    "# etc.\n",
    "\n",
    "# value_counts() \n",
    "# use frequency of how many times pune has occured 1200 or in % form.\n",
    "\n",
    "# -- target-mean encoding\n",
    "# city       survived\n",
    "# pune          1 \n",
    "# ...           0   \n",
    "# delhi\n",
    "# bangalore\n",
    "# ...\n",
    "# etc.\n",
    "\n",
    "# link for different technique.\n",
    "# http://contrib.scikit-learn.org/category_encoders/"
   ]
  },
  {
   "cell_type": "code",
   "execution_count": null,
   "id": "b45077ca",
   "metadata": {
    "id": "b45077ca"
   },
   "outputs": [],
   "source": []
  },
  {
   "cell_type": "code",
   "execution_count": null,
   "id": "c7a68270",
   "metadata": {
    "id": "c7a68270"
   },
   "outputs": [],
   "source": []
  },
  {
   "cell_type": "code",
   "execution_count": 38,
   "id": "b3dccd6b",
   "metadata": {
    "id": "b3dccd6b"
   },
   "outputs": [],
   "source": [
    "## Conslusion or what you have done for achieving this."
   ]
  },
  {
   "cell_type": "code",
   "execution_count": null,
   "id": "c85d340f",
   "metadata": {
    "id": "c85d340f"
   },
   "outputs": [],
   "source": []
  },
  {
   "cell_type": "code",
   "execution_count": null,
   "id": "640e6bc6",
   "metadata": {
    "id": "640e6bc6"
   },
   "outputs": [],
   "source": []
  },
  {
   "cell_type": "markdown",
   "id": "f0f74d32",
   "metadata": {
    "id": "f0f74d32"
   },
   "source": [
    "## 5 . Handling Numerical values"
   ]
  },
  {
   "cell_type": "code",
   "execution_count": 39,
   "id": "64bf80fd",
   "metadata": {
    "id": "64bf80fd"
   },
   "outputs": [],
   "source": [
    "## Whether the data is symmetrical or not.\n",
    "## Plot histogram and distribution plot."
   ]
  },
  {
   "cell_type": "code",
   "execution_count": null,
   "id": "74715967",
   "metadata": {
    "id": "74715967"
   },
   "outputs": [],
   "source": []
  },
  {
   "cell_type": "code",
   "execution_count": 40,
   "id": "73e5f55d",
   "metadata": {
    "id": "73e5f55d"
   },
   "outputs": [],
   "source": [
    "## If your data is not skwed and symmetrical apply standard scaler."
   ]
  },
  {
   "cell_type": "code",
   "execution_count": null,
   "id": "c3404d64",
   "metadata": {
    "id": "c3404d64"
   },
   "outputs": [],
   "source": []
  },
  {
   "cell_type": "code",
   "execution_count": 41,
   "id": "9bdf16a1",
   "metadata": {
    "id": "9bdf16a1"
   },
   "outputs": [],
   "source": [
    "## Confirm the distribution patter by Plot histogram and distribution plot again."
   ]
  },
  {
   "cell_type": "code",
   "execution_count": null,
   "id": "c208c2ca",
   "metadata": {
    "id": "c208c2ca"
   },
   "outputs": [],
   "source": []
  },
  {
   "cell_type": "code",
   "execution_count": 42,
   "id": "c4d208ce",
   "metadata": {
    "id": "c4d208ce"
   },
   "outputs": [],
   "source": [
    "## If your data is skwed and non-symmetrical apply min-max scaler."
   ]
  },
  {
   "cell_type": "code",
   "execution_count": null,
   "id": "e8825761",
   "metadata": {
    "id": "e8825761"
   },
   "outputs": [],
   "source": []
  },
  {
   "cell_type": "code",
   "execution_count": 43,
   "id": "acdd50aa",
   "metadata": {
    "id": "acdd50aa"
   },
   "outputs": [],
   "source": [
    "## Confirm the distribution patter by Plot histogram and distribution plot again."
   ]
  },
  {
   "cell_type": "code",
   "execution_count": null,
   "id": "408c25f3",
   "metadata": {
    "id": "408c25f3"
   },
   "outputs": [],
   "source": []
  },
  {
   "cell_type": "code",
   "execution_count": 44,
   "id": "89aeb0e6",
   "metadata": {
    "id": "89aeb0e6"
   },
   "outputs": [],
   "source": [
    "## Conslusion or what you have done for achieving this."
   ]
  },
  {
   "cell_type": "code",
   "execution_count": null,
   "id": "c905ab89",
   "metadata": {
    "id": "c905ab89"
   },
   "outputs": [],
   "source": []
  },
  {
   "cell_type": "code",
   "execution_count": null,
   "id": "6d4e667d",
   "metadata": {
    "id": "6d4e667d"
   },
   "outputs": [],
   "source": []
  },
  {
   "cell_type": "markdown",
   "id": "1cfc3e2e",
   "metadata": {
    "id": "1cfc3e2e"
   },
   "source": [
    "# Model Building"
   ]
  },
  {
   "cell_type": "code",
   "execution_count": null,
   "id": "dd0357fe",
   "metadata": {
    "id": "dd0357fe"
   },
   "outputs": [],
   "source": []
  },
  {
   "cell_type": "code",
   "execution_count": null,
   "id": "61c43917",
   "metadata": {
    "id": "61c43917"
   },
   "outputs": [],
   "source": []
  },
  {
   "cell_type": "code",
   "execution_count": null,
   "id": "ceabb3da",
   "metadata": {},
   "outputs": [],
   "source": []
  },
  {
   "cell_type": "code",
   "execution_count": null,
   "id": "73b006c0",
   "metadata": {},
   "outputs": [],
   "source": []
  },
  {
   "cell_type": "code",
   "execution_count": null,
   "id": "baa0d736",
   "metadata": {},
   "outputs": [],
   "source": []
  },
  {
   "cell_type": "code",
   "execution_count": null,
   "id": "a4bea45c",
   "metadata": {},
   "outputs": [],
   "source": []
  },
  {
   "cell_type": "code",
   "execution_count": null,
   "id": "7d108b2e",
   "metadata": {},
   "outputs": [],
   "source": []
  }
 ],
 "metadata": {
  "colab": {
   "provenance": []
  },
  "kernelspec": {
   "display_name": "Python 3 (ipykernel)",
   "language": "python",
   "name": "python3"
  },
  "language_info": {
   "codemirror_mode": {
    "name": "ipython",
    "version": 3
   },
   "file_extension": ".py",
   "mimetype": "text/x-python",
   "name": "python",
   "nbconvert_exporter": "python",
   "pygments_lexer": "ipython3",
   "version": "3.10.9"
  }
 },
 "nbformat": 4,
 "nbformat_minor": 5
}
